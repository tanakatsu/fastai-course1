{
 "cells": [
  {
   "cell_type": "markdown",
   "metadata": {
    "toc": "true"
   },
   "source": [
    "# Table of Contents\n",
    " <p>"
   ]
  },
  {
   "cell_type": "code",
   "execution_count": 1,
   "metadata": {
    "collapsed": true
   },
   "outputs": [],
   "source": [
    "%matplotlib inline\n",
    "import math,sys,os,numpy as np\n",
    "from numpy.random import random\n",
    "from matplotlib import pyplot as plt, rcParams, animation, rc\n",
    "from __future__ import print_function, division\n",
    "from ipywidgets import interact, interactive, fixed\n",
    "from ipywidgets.widgets import *\n",
    "rc('animation', html='html5')\n",
    "rcParams['figure.figsize'] = 3, 3\n",
    "%precision 4\n",
    "np.set_printoptions(precision=4, linewidth=100)"
   ]
  },
  {
   "cell_type": "code",
   "execution_count": 2,
   "metadata": {
    "collapsed": true
   },
   "outputs": [],
   "source": [
    "def lin(a,b,x): return a*x+b"
   ]
  },
  {
   "cell_type": "code",
   "execution_count": 3,
   "metadata": {
    "collapsed": true
   },
   "outputs": [],
   "source": [
    "a=3.\n",
    "b=8."
   ]
  },
  {
   "cell_type": "code",
   "execution_count": 4,
   "metadata": {
    "collapsed": true
   },
   "outputs": [],
   "source": [
    "n=30\n",
    "x = random(n)\n",
    "y = lin(a,b,x)"
   ]
  },
  {
   "cell_type": "code",
   "execution_count": 5,
   "metadata": {},
   "outputs": [
    {
     "data": {
      "text/plain": [
       "array([ 0.3026,  0.4339,  0.7364,  0.0553,  0.7976,  0.1623,  0.6165,  0.3369,  0.6137,  0.3188,\n",
       "        0.2377,  0.476 ,  0.0066,  0.4722,  0.9555,  0.1385,  0.3822,  0.9061,  0.1542,  0.6689,\n",
       "        0.0805,  0.6446,  0.0857,  0.0538,  0.0223,  0.4904,  0.7546,  0.0602,  0.8889,  0.7859])"
      ]
     },
     "execution_count": 5,
     "metadata": {},
     "output_type": "execute_result"
    }
   ],
   "source": [
    "x"
   ]
  },
  {
   "cell_type": "code",
   "execution_count": 6,
   "metadata": {},
   "outputs": [
    {
     "data": {
      "text/plain": [
       "array([  8.9078,   9.3018,  10.2092,   8.166 ,  10.3928,   8.4868,   9.8494,   9.0107,   9.841 ,\n",
       "         8.9563,   8.7131,   9.4279,   8.0198,   9.4167,  10.8665,   8.4156,   9.1467,  10.7184,\n",
       "         8.4626,  10.0067,   8.2416,   9.9337,   8.2571,   8.1614,   8.067 ,   9.4712,  10.2639,\n",
       "         8.1807,  10.6667,  10.3578])"
      ]
     },
     "execution_count": 6,
     "metadata": {},
     "output_type": "execute_result"
    }
   ],
   "source": [
    "y"
   ]
  },
  {
   "cell_type": "code",
   "execution_count": 7,
   "metadata": {},
   "outputs": [
    {
     "data": {
      "text/plain": [
       "<matplotlib.collections.PathCollection at 0x7f8c9e827b10>"
      ]
     },
     "execution_count": 7,
     "metadata": {},
     "output_type": "execute_result"
    },
    {
     "data": {
      "image/png": "[encoded data removed]",
      "text/plain": [
       "<matplotlib.figure.Figure at 0x7f8cc83c0990>"
      ]
     },
     "metadata": {},
     "output_type": "display_data"
    }
   ],
   "source": [
    "plt.scatter(x,y)"
   ]
  },
  {
   "cell_type": "code",
   "execution_count": 8,
   "metadata": {
    "collapsed": true
   },
   "outputs": [],
   "source": [
    "def sse(y,y_pred): return ((y-y_pred)**2).sum()\n",
    "def loss(y,a,b,x): return sse(y, lin(a,b,x))\n",
    "def avg_loss(y,a,b,x): return np.sqrt(loss(y,a,b,x)/n)"
   ]
  },
  {
   "cell_type": "code",
   "execution_count": 9,
   "metadata": {},
   "outputs": [
    {
     "data": {
      "text/plain": [
       "8.7667"
      ]
     },
     "execution_count": 9,
     "metadata": {},
     "output_type": "execute_result"
    }
   ],
   "source": [
    "a_guess=-1.\n",
    "b_guess=1.\n",
    "avg_loss(y, a_guess, b_guess, x)"
   ]
  },
  {
   "cell_type": "code",
   "execution_count": 10,
   "metadata": {
    "collapsed": true
   },
   "outputs": [],
   "source": [
    "lr=0.01\n",
    "# d[(y-(a*x+b))**2,b] = 2 (b + a x - y)      = 2 (y_pred - y)\n",
    "# d[(y-(a*x+b))**2,a] = 2 x (b + a x - y)    = x * dy/db"
   ]
  },
  {
   "cell_type": "code",
   "execution_count": 11,
   "metadata": {},
   "outputs": [],
   "source": [
    "def upd():\n",
    "    global a_guess, b_guess\n",
    "    y_pred = lin(a_guess, b_guess, x)\n",
    "    dydb = 2 * (y_pred - y)\n",
    "    dyda = x*dydb\n",
    "    a_guess -= lr*dyda.mean()\n",
    "    b_guess -= lr*dydb.mean()"
   ]
  },
  {
   "cell_type": "code",
   "execution_count": 12,
   "metadata": {},
   "outputs": [
    {
     "data": {
      "text/html": [
       "<video width=\"500\" height=\"400\" controls autoplay loop>\n",
       "  <source type=\"video/mp4\" src=\"data:video/mp4;base64,AAAAHGZ0eXBNNFYgAAACAGlzb21pc28yYXZjMQAAAAhmcmVlAABP0G1kYXQAAAKuBgX//6rcRem9\n",
       "5tlIt5Ys2CDZI+7veDI2NCAtIGNvcmUgMTQ4IHIyNzk1IGFhYTlhYTggLSBILjI2NC9NUEVHLTQg\n",
       "QVZDIGNvZGVjIC0gQ29weWxlZnQgMjAwMy0yMDE3IC0gaHR0cDovL3d3dy52aWRlb2xhbi5vcmcv\n",
       "eDI2NC5odG1sIC0gb3B0aW9uczogY2FiYWM9MSByZWY9MyBkZWJsb2NrPTE6MDowIGFuYWx5c2U9\n",
       "MHgzOjB4MTEzIG1lPWhleCBzdWJtZT03IHBzeT0xIHBzeV9yZD0xLjAwOjAuMDAgbWl4ZWRfcmVm\n",
       "PTEgbWVfcmFuZ2U9MTYgY2hyb21hX21lPTEgdHJlbGxpcz0xIDh4OGRjdD0xIGNxbT0wIGRlYWR6\n",
       "b25lPTIxLDExIGZhc3RfcHNraXA9MSBjaHJvbWFfcXBfb2Zmc2V0PS0yIHRocmVhZHM9NiBsb29r\n",
       "YWhlYWRfdGhyZWFkcz0xIHNsaWNlZF90aHJlYWRzPTAgbnI9MCBkZWNpbWF0ZT0xIGludGVybGFj\n",
       "ZWQ9MCBibHVyYXlfY29tcGF0PTAgY29uc3RyYWluZWRfaW50cmE9MCBiZnJhbWVzPTMgYl9weXJh\n",
       "bWlkPTIgYl9hZGFwdD0xIGJfYmlhcz0wIGRpcmVjdD0xIHdlaWdodGI9MSBvcGVuX2dvcD0wIHdl\n",
       "aWdodHA9MiBrZXlpbnQ9MjUwIGtleWludF9taW49MTAgc2NlbmVjdXQ9NDAgaW50cmFfcmVmcmVz\n",
       "aD0wIHJjX2xvb2thaGVhZD00MCByYz1jcmYgbWJ0cmVlPTEgY3JmPTIzLjAgcWNvbXA9MC42MCBx\n",
       "cG1pbj0wIHFwbWF4PTY5IHFwc3RlcD00IGlwX3JhdGlvPTEuNDAgYXE9MToxLjAwAIAAABM0ZYiE\n",
       "AD///vdonwKbWkN6gOSVxSXbT4H/q2dwfI/pAwAAAwAAAwAkAvzHv6EHQzQgAABQic/gsldNihxs\n",
       "chl3ZXDBVa+0R31HzvW5WhBuBxG7GpLHofLVYKfef8zvXC0dW1jRmoDONOx8k5cfNLHsjW0/00Lh\n",
       "mLUOWxW75aSQ6gpXj9gAF43Ea26MLOj6nRLIXqvJP+uJFjEc4CQSHCCWtzd9m8Nb91qqbcHD8fnr\n",
       "YTD/AZl54pBXgejrJY2SgGcZgRRFKy2O8709ZnevX4T281uclt/xtSklmXiiv9sgSvN6M0rdeT/9\n",
       "VnHkVUPp6/x1UB7/61qvRI20ZlZyXelsZpNMXAuw4uWB2FqXOE46LQmYWGd4fEY3RhKim62k0R6a\n",
       "vK0msaKi2zaKMa6AlnEOzVGV7uaV0VpX8PYJUw0O48tZZiNcAYJXWAhB8zSNfgqoiVUu2ZAg44jn\n",
       "CKSsV9HZuxCANFbg/+Kzo7Uc33XpDa/H9BWqcAAIolnbpLjaW+0Kt+KKlK1zT6Jn7ps1W/GJXnf1\n",
       "gnwM+Sa6uq2jvaNSdRHM8FIo7vQCPD/UQUfXW4Q9JHLR5wIHucEFq++yS37U7xd20X3mXlAEnogl\n",
       "aQ5mxEDflW7CynsK06+BAeaNy2s4KdZbEr+jKUC8rsng3oxJagdwPSdAde1VgEPeTVtVeFvTJL/s\n",
       "mBgyVJufxaWYsmHKQoyqss+DA8CnjcKEO7uTh0CuoqlfzLBcyc+37ZO/9n6Tpv1HDOFshvbPEGdI\n",
       "Gq27n2giub5opARG6HYJxStl6/oi19yhBfRX1Shye01tLa7ExnaqBHw4aO/tPmvQAhIQs0zt6Rq4\n",
       "H/jxVa4lV5dx7AawFvtUAJ9cBKZ/kMQ0/8U7cyCoQO2U6Tg4V6Wa4W+ydl5c7R3q4W7r+IogPxKw\n",
       "Vij1+ZREYj4LW9kKa6QmqN1S2MHbu2JGltXh3g4n7LdWHXLdwwITVuKVjO4s5RqWF+LeGG3LFQcY\n",
       "NMlw6tM8otHRjIt2Mcvc8m2rND2oXlzEmpSC70qTNHWKWigR5KT9E9IIo8i5/0x1Ryu9sIqoQCud\n",
       "ebuzCITaEnWdBbWFnsGhHikUPwW4g70GQSty9/dRRUEy88JEpkfc1GqHEd2np2jHD1P7CCjcehB6\n",
       "voMdHIqpO1LovzjkyQvF3JBDNFf5jDrUy6I418Y4nUU6b+pw3OfyxjOY1eg3w2wQYoan37CywYR0\n",
       "8SqUtzhR/hsXP5ztTWEnn6TsW2fz4ChrN0RwAAmq78UTIUUrklP5BvUETjv8uyxAU8yQdxce+Zhx\n",
       "G421a+a+cLAFEE6cbbQrMbtRlc+soZx3vSUGrzjJhsFe/0rrsinbUUfNJyi/OPSrSOZSpQapY3gr\n",
       "tmxF4l9lsTZbGn1lcsTmBexl7NC58NfqINuwKX4hBLL5jV+8jmooF8ofXOo+GCtn4lxq5eEaMPTk\n",
       "p6tXyJnGMEfSrInkz8736rLj8hijLGT3Nue4Iz0ezfZkdaazaaec5yaIR4ETqk54O/Fr7We6lz5a\n",
       "F8vy/W6M8gcf9bCOdelr+GJPOo8YFIPze5tS62OupXlWhf3al+OQPXiv97Vmsy4b12lx/nf6BIN8\n",
       "6RFAhSFEhknuIS89+eJ+IqyzY4JXJLh8AmeHxXdAB29zli3Mvj8N5Nv4CHLdjpBVjNCfGvUdmZcw\n",
       "wmF+g69DtKcgsQnxfqPpC5eHQgqCe398V4GXFgNkpk2YtL4xB8xt9X7FGOPksXvmjfWeBW8Gt/WF\n",
       "XTtwxFzH7hmve2oiY0iI+oBZzIFwtRcAZ1S9JES7AM9C7qmWD/q/WL6y0w+xLdD0vdtgDB+h08jq\n",
       "08WB3/2gymJwTNKbLIDXf0cSkV7BDn550PssgGdUjbf8Fn3dB0N8SEMNpYypGkK16BrEAcAWs8c9\n",
       "oaROkP49VSkXlWtAGFetHJnQwvFnkallVA5LUcLbhEirs+xFXplLcm6hvnb1FiNM39WGfYq4fwRx\n",
       "hTSPpMqr/qrdI/6DUeHwr8izX5K7H3+ewCw+8WEKBqHcaWpWPfr0y4zfacvufj7UN6uvCQKf3q+X\n",
       "T3YykzO3D2G0s7why3kDXXaRTNSsI9YwCXd2eWanmR9supUnffZXEarOI+nmNCDXrKXidvh9jMpN\n",
       "Y3oTu5pnZTfCCFgxn9ourwm1d+NEiooHOnpiTuDQQthRe01EEVXrMfPzflIap4ZJVFSSGvSdD6bD\n",
       "1PprpX9bIHhij6wRLYxo8maFZDI3pbXXvFGUDavzQiLZcM2lzwLqeoufUSxs1EfRMO0d7iJCucTm\n",
       "uiCgj9TRIYFeKBEYtqWle/8jVvga3Riig2DPO14CmQVLpCv/Qvr1PDyvbk6eZWB+BmJAoJhaSH+a\n",
       "wAf0pIoJTmnXZS/PAYiFb1db1p4F+JtHTBR1aRsmGFw5y1jpkkcJd86tp2r9x3D7W/xwvBOE5d5+\n",
       "MAZUBWnujv3qtf9Q6+bZWacxDh4U2DhSbVXd4mfWXv5eoRaSuSOHhdYY3pNCbT7bhc4p+rkuveTV\n",
       "279dt3Hv0QvYzkfIrAKc4h8H3DoOU14RhziMxcaE5He6l/n1crTJvQ0so/QL2YP0/B8CEmEtEB0r\n",
       "Hw0wt1iCC/oaDk2vTRgXfblkJ86kpNz2ucY447KmC8NGSd0cEo6QU4YcxzdVYKVcbB+PRO9WtjbS\n",
       "YanVBCvvtyxVh/Ze8g6YEOc8vwVdi/RO8DI3Tj7wMcEnJprRX++ZeXwlk/XqEYbYdN4gUxfZbJLU\n",
       "TNfiSxBq/2Tcb0lzZ5hUILHLoexh8Jmb+h67ol3WNubx/15QBtuKkCuaLPsPhHZPjo7qNnikyJFP\n",
       "uNCb7gZkNbccHuOvQQxUBsX91gD9qj6d3s1lYs3vRI7m9ap5CSrDPZbsifSxsYo4WipuTUe580cW\n",
       "Xdmba8gWLGl7me7ynaYF8DYRjfs88ZUvcrPgXrKxKGUd/WBeeRtaK/AWevAT8sv0qOmCDzjvSrqp\n",
       "JSjXjP6Ly+CF9sqR1B7vUFP3IfHBLEv6bluTUd253GWBp49KJc8sYMGkBYicU8XkhaCLGZGXp7nI\n",
       "fNb/LoVB9TV2tWhESvZ0u87ABKCChD9RbBNk5fjrHJMz4VPmSejQdRRILuFwmul/V9DO8GZJn9rd\n",
       "9d6F65aeV2OAxMP/1+4AAm/r8cZUR/mowbC9tEDC9sZ9nRv1sLj81LDIEscLp5QZiWuRwea7MA7s\n",
       "PO4wOfxl/+Zo3xda9GMqmahWP1AkSkgWL4s+G7qL7qSVyyaM8MoPYMUyPhIrF9+SIxKwUKIH3ho5\n",
       "TlyWf8Z0OFCzv2z+f85Y10wvzgNaXd5fvkLarfQOx841KalJDccFd3zbTYmkYnU6I/5OkcR10GBm\n",
       "efxJbAw1vz/qtEUxd5okP0DmR1Pwqi/bJbdm0HAD3UaoNgHuCaepbcJXsH7aWn2sblQax1PexC1P\n",
       "4UIh7g9B2IPHNcQJlP+SANK+sKo3rMKiYVGV+D5iYf34+atHQj2jrkpCAuFGqM1aOuMQrzRXCBRs\n",
       "fV6VnxO2CZkpmHLDWQ2SZ4Dayr/XMAAln4E755kOtzFsWBD5cvTxO3jL5OR+YT+g3/LhVJ4ChIC2\n",
       "o88ScWswBnxGHW6VDHUcLtXGQsYHnJzxP8Wg+1THHEfCvsLOm47U/dX0IapThB3jotn9IxgrF1eD\n",
       "xxAtCBIWvFK7Giabv+0uIxSn1B48zoAHhNjv7MLXRzJfSy8/cGlRSbocrJc74y3ccdzyihST4yYG\n",
       "fEftgAjmz6+DZbfXhh8ypwXaxnZHQYetLn1pV30JbUt1q6Jz7tQJX4zvKxF5ypn3+ipZ8L1J2FhB\n",
       "roaUuo7gDvdhZGqVMcE95l00+FXfk+fo0mLbaks/j73WYzgjZ+jocLJZgdwFMwEONt3NiJ4hvDil\n",
       "6XXvoR+8BsEY4H8dpv7XGygngkHKozKyWtiyYjatUGk9vT8fTO68LH8M6+ETy1NzaUp75iKA7KlV\n",
       "MxF1MwAuK6us51CRe6x9jMYOHS3/bIUuNdKH+NWWkgrwnEezYp/nQH/GiVWi586hpsD5mrClQoxa\n",
       "zQpsmqsuqx2O22V0lURflFjikhG39qHbMGEeZAKw0zd/jILyoJ/TdDyXWOlfgEgreMYIH7YbHysf\n",
       "XKFx9wXXE1rckjsLFT8jhiDi0zeplmYxXAtqbX4A6bZK0xXVlHMmrs1Q2a20e1BFvmjYmFkHx6zo\n",
       "lWtsdqjZkOzS1ZWUPqMwAeW+iOzK1tNcEmxEyp+RTI+EisXe4efClcldt60neD9Yse1Pck45sJel\n",
       "TSUIOMUG3+buiaFyJg7/2xSlZbrn/RBkqqpn55R/RyDrmQCHgjz6/HerBhwlDTQc9erxfwm+cgh6\n",
       "ghbktkBuXnOec/7/MF7t5/s3jfHdcuDv9FRbFCbDeyLpwIB+GncocVNzsr2u1HuBwY7rFptrH9VH\n",
       "iPBpiDXTow0Hrndremn6KTdnpM4AO6xhRcpMwZmmQx197OgxcRVKu6yMs9lYJW4B/VNkZhqPS9Vd\n",
       "LQcxp59RG49GgPPQHvtlUGphISnwKHZ4mUVNCr6QIAoOlMJbekkb6tDFQB1fAPA03wS8ZRbKz9EG\n",
       "RxmIbn0ICEYrS2PlQz3BCIPOzIKpCbxYUkaW/ezk1YriMXR0ek5J9DiPX7Q/wz9O1BhwAoPeyGVD\n",
       "iC6ho3mJ+jbB3oqZCtIjgoMddfHgWVE7qeKRU296DstG/S2Ba9ZwKwhsHNS+By8RzEgvCLMJzq5D\n",
       "fs+PwHLwlkuzIncOoWlp6WQC9ceaqs6+PSjeFCs4Y0oqZ6GrjLd01nib6Hh9Hxm6pJBr7NQxOD3/\n",
       "uQm/tY5doCrm1H9g3KN7/e5xbKzgiImlnOSyeA2UQUJ36vqxzJ67qQ0y9t+KZkg4decD0hWMfC9m\n",
       "ygtdIfCaDho9Ur8VH9F7pvO8Jn2L8E5JxvblIZAI/WJKNjdcK9tEfrmGLT5GhgRkJ1E4vriD8G4g\n",
       "SLUSEpiD7gv4Va/2dFwyAhQw7f4Wv+ENrqguRpGb0u+Xz66aTwTB7b5PZsJAaiNdAbphYgbA44PX\n",
       "8Pz+C+R2qs4vQIha8VoQEE9ha14f/gefuo8S3J+ZP+yV66+PCmGoyiyrncZS6epDmpbZmMCm0V5T\n",
       "3r/EZo8q42qgoNvocuvmhT5TGiO9Ol1UOiF7BaQ9qdLyYBpqqXWMfQD8JAZuGdyTzwusO7B0ug3t\n",
       "wbkNpl5dTDXMB45S6QiEPQZ/JhbvAbn2DnPDVFXPQxYjcb8k62+dro6IhmM7cHt71GzqZ8vJy7vJ\n",
       "Pm2UhcnUyxXqkdJNzrFYATc39Q/xA/KKFHu5v75ZGfGdf6+vp/+2/lQC8P8X5I7U7QImoFgcATGv\n",
       "Rki3ssT5j5AdhRVL0F34qpRUKAXOtMaGHTf8fRXD/VsJjuVGq7AoZEp+vjJ7cez/X7gCNj7EAPx3\n",
       "8or9GhidMXRruKvpv5ytND0geHeUU8xDB6QW9TnLReGsFsokVEW2+gEAcKPeQgJ1c8JTPv6QnNDo\n",
       "PAJ4XzBXAYlppn8fNraMRntBGSgLmyHIhdtsXC3x3yePUR6Yyo6iXrKE+e9im1BabQZTXEX3tO/j\n",
       "sOZJQFcrrgTQoe8qGbbc89flSEfH11hjr66RN+0MdH06kf/h7GZ/Lo/3U6MUmAFcwzA122sz1wRJ\n",
       "fz+yYcw5yHxWip8txZRokXA3vp+3H76OtbWl3wGLLZwkPxpwpANQbkJnJ6W51hRfZSVOSItv+W/+\n",
       "OPZLP4Nqy/N4YKf5kxtEzUrQm/KxFdBzBIP6xMUwwZikO6A8EelOaGeYvxzUzf1mkMIVr2FeQ7VG\n",
       "g0RAEao9GdxrbnIA2W8OuBZjk9SgV79E+fR7Etfn7ZfFYB+16wltITST64/9o1GeRdzRcpRgSQEG\n",
       "OYg9lpWTs6Bl0glQ2ZVwSibQ3uviFX91N2pqfBdoMxAOgLb/xPJnQfnMIzVH9SJb3tsXi0PLOm9/\n",
       "2+4/KMfPsw/Qe3Bb8kZq5UWUltHgC3ZoZPHxKn/HUKGrLaJzuY96ACiwhhav7QHQSXiC3WduMbFz\n",
       "x0okjZzqmt1atasAjLCIC7KltWzeRxwrG6o8xRNZWng1BluOohb/OCDZQPts4WtqfrQrNafZWyFB\n",
       "3Jd4rCreDCCsxorAMzSIinPfaiO/KZzoP5EX1pk0ivAFB/hXmJd0cANXZJhP7qhHuJOertDM/mTC\n",
       "oNZ/5p1D2aGtLfeyOpjRllMh8ll/8MDxsBKSrR2KFCgFRzWV6AKJcIg+uPQStIVSdofvBP6ZbDTJ\n",
       "6VhawKL1TrRl0ToxUYXdSWqtJg8QMh7/J+WdnNYCqOEBdnnloVVd/T00At+QXV/leAfEjsGDjNAN\n",
       "nd6MCEAIheEuw9+o/X7ACeBLisQxEqKQjGCBfFhiFvCrPL3IOlnbr7C/HkMscRueyAMEqsj33U8D\n",
       "Ccgr8SmJaD+RF9aZNNneR83Y8jBs8hRUlQjML/jFT6pQlIBpyLc4Dir+laN6mw3ftvB/ZtIZacuq\n",
       "ADOCPwKAAPYiTTupgv8KWUawFDwp2f+pqI/gRtXA1NN3xAssmmBmHFnBhVsj/UWL9lTt2iq/Qh1r\n",
       "R0Aaj3ew6AAA44EAAAHEQZohbEP//qmWAClCZegFH1oymP7IGBmTCTFtHrD58/26DeN+KeF3rC+u\n",
       "6MOU1bX5mZuq96mZj40UwB+sPk9ZTZYLzYTPmc9MNFwRtf8GSB/xKr2ec5rdQwKOI6A4CEvnl6M9\n",
       "fw8MAP+t/lsxXimdthiYHf9/yQ/wi4HiQQ9INfvLw7UjRmJWwKrWDaU+6sSs2PDCUc6eTpuUZQ0u\n",
       "+Nye0RgtGxBMruIXXzwgVmpxeLyZWqWJ03CoRxLpfyk/IsuePCO5xPA5Xn3WP7kE7f4gawA1bbRX\n",
       "6L5wR+s0MmzwpO3nd69PC1Y5pQRQXPKSLTwXAMM3Aj4I0ajps9gYEpS9D+RdgCujpqcoy2YzXzod\n",
       "6X3zsW05jv46jXkE58LFY0qzvD1CUK0HDgg0jK+6Sj6BVc5+CuuAWDy8SPvunFvBzy203o42eNFu\n",
       "jDAi6TgQNkZXbszBekIzimLC7HEq9b1tpipVQsy3PPBoiMe2Zz+y+I6vB8+CPUb4FyghaPD8EhDQ\n",
       "4P94fC0Ya4fs5tIFntFb6T5kqq5N03NSmVFnweEng4kCJhlgXndKnqtXN3ZYqt85vE1dW7RXBw+C\n",
       "pVqM6ptI1HexOvwAAAJdQZpCPCGTKYQ///6plgAACQ8r/wjlYgAXSiJXTcy5xVV5wz+MjQ8E5sIV\n",
       "b1LhmWM+7hm656TWlmrKjXokNPeo+Rqr107QpuWhC3uNxRjK7ugSKhmM8X2S3uDUuUwQM4iEWHhd\n",
       "nFmbPme8dkgMOvRlgqic350IVW489f0zIvHm95Co2uHDm+X1vyZPS3Aheu2xYVqDIi5VwlJuJUo9\n",
       "e9aHyMoiO1Tr7cHxqGrVOayM/yAUWBf6AstvtxNBUHoflrzkeyIPAset5VPP+zD2/EqT8NctDRP+\n",
       "Uns1BVpZ3nixfoEf+90GHbMHQQkS+3hMpT8fyP2iwYz/0QfyGx0mQ0SsoUu+diaxBoC0f7JFamG0\n",
       "TImFQoynW4ww62jBXG49WnZzVP0cGZkNGyKsfjZ+CrJh7OAh2hJqXM3knXbSFct0TMRpLYVtRNOZ\n",
       "jgaeAg1GgPEnCpCmNQNWkaern0zRFxYX0HgJ/eT84xlQfILdk8S24CtPnFY8IGEYoo6ub7Bgr12h\n",
       "Tgx3zHceCTBGPcCBymc7ZMkxJ4+mHwsE0JY0sGI2dQmwSytY+AWEvY4Wwiz+bbnJ7gfXOy3CNoLh\n",
       "jy+hxr9IRhWlrZsW8V7rsDXtJJ3JUu4bk7nyqYgdtTeZgXyI5/ocM+AtmEvq2ig/5ntUNxbHqika\n",
       "CycvRkPVpa7GPnhk5WRFnHfR4myOhs0IfWvCa0nvUjJQtHUfxU3PPA8LASa+m9K7uqtKjmRbaB+P\n",
       "WytsWn3excRauY6/I/lH3dPOIkK/2tnAj6XuC1jaqQMxYYP3RNKQAAADAAIL4xUAC7kAAAMlQZpj\n",
       "SeEPJlMCH//+qZYAArv9UqbDszGrc1GSZGt/7g1jQAbSh5TKV8Ms3VrS6IEkWIg6WP3d4Q3cCQms\n",
       "RbeK9/4ynDe1PZgRQFTqjTp1NtTPuvAesaGZOTqWMMAEWlbwTeTOa0MGhU2XGp60isLNo38M8eCR\n",
       "POUzJK8sLhf1MPzz04zbu5uEHJFX7iZlHpkaWt9XEU82EqA3FMDDGlsBmDtaYBmbqNiwNgCjBNeg\n",
       "xRC9DCOcCuG8q/XkmbA6bSobnylyPfuNRsyFGWzSSdZJTDlTQap5wSmkV4JslyVU2shXKGjgBFCG\n",
       "FlTW1VybRDB/lyn3mtzAZ4qB3DyqIgnCNbzbK34xqlYSeI8CyzLJadhl2mLc2UyExklkWkEv5VZS\n",
       "VJi6RRSByIGHtG95p8UBrDWl443gieuwA1piBCeoq7E5tUgqCNYG50QzU/mRiwLLgH+KfuX2i7oK\n",
       "J5tPuD8Bo28t4AoL4r4BSHkRhMGAVd+k+7YHd8CvIWxS6NdMtEc+HI7wcMgNUEcTU/bT7LkJCyhq\n",
       "jRhuHCuApV4yizECDH6RmBSYn4BprVY9YPzITRy0NYxU6uphyELvRaGel8eHige3l6P8GvO45bbq\n",
       "b0xPxkQQTSeaCHy4WXDCXLi0urcVzHugM9LoRBeYh3+2FR5ixyQ1ZWCPrRRs4Dn9YosGAQUNAq02\n",
       "8192V8EdH5uvfyANKz2pxTsxi8c0aJzoQTRXgyajvv8gqll9xisdQLaZvGdbKxIJg1Fzw1oJbn1j\n",
       "ATNL7TbkCGY+quuGVCsdpZPeHLWRPrhoXecFkwIlAO+7Bj1cOsS9219YmkA09pfRBOeJoNBq+hX1\n",
       "p9+0swqueNwPz4VsKDCbXBwM5zuc84D6leMO4hl7TAaF/ucXbPgKIvCHJH3Ay403mk3anHO8j7tn\n",
       "YpNJY+k1Xfsmi1aOloKDZhMhANxM7SkLfTWNvgOnPzax6bFdSOx5qlyY8NLAjVv7IQQ0PhQoWGRU\n",
       "FKtJjHMaelM8+a4rvZ6prtxx0ltUpxQem+SlAFRi45FDQT89ql2AyxDA+CMCk8/DS3agGdqUFM6H\n",
       "G8ADWgAAAj1BmoRJ4Q8mUwIf//6plgAAYL+XvxBHukKDbZR+kiimMPADXlFdv8PBSIF1XZXm6Kmk\n",
       "FelW7oFc1RSeDQojFzBuspld0+eNc4mcCKM/qTMFqodPDT6kf099AuGE+NdIF/YtHbYB0AeDHScQ\n",
       "rd8ZgIA73M+g7FM21xBR88dDI8rvFU7G2ca3QktR0qN7DvdVvFKYvmh8f/b3syRT3YI0L2Co0Je3\n",
       "6olobQTsuerEtVQf/M7UHMYC+SWvXG42Ah5XB5LHFC7gM/nUdizrXydDE1xlxXA5CV8zstWcJx14\n",
       "MmyDXao7uMpFaT+4JHcpgxevTmOuMoZ5he0EwwTL9XuRYyhdBMrW7gSLOj/1NDWKIrxZbntgvsR6\n",
       "NzT4clux+g2bMWbYKKCmFiC8CfRkG4LaJc/uP0e+X3r6fAzQhGQ5kquSCnfWeOmUnWODR+477jIl\n",
       "+UXgXN9JC14OXnGr6sdVYnMgO3EzE3QjG0pZNrKCPQyQXkTotKJp98Od04x1Lks2qN6JOwG1GPIQ\n",
       "5ZW1XDSTTuO5tumBNUD9EcVKLHJZ1ASF/wrjmUc4tzh5LNE/1NqBPhPHJncLjaFaKYAtCZx6OFG+\n",
       "wRq1CiRc2HqEkDmPVdNPMnihmKw2fnOURwGTOJrv2llQY/1zopDFbnth8pZSwSz845+iCVY/bd4a\n",
       "YZpbIwczjsc6Me7Fhn+Bwq+RPuJh4MBnefLbmUy+KGv/5KvUy+21QQIEBu+bzIQm7Ed9429OpnXl\n",
       "R3IjvlAAADReoQMAAAJ/QZqlSeEPJlMCCH/+qlUAADeT6EPZSvBHoXU7Ox0cyFWPfwixjgCSbbJU\n",
       "p2420h/nuEzwTg6ExAidfq0fV75l/F6OftyLjvRFeRXOwd3CPAyCdtm8t1P4/Gw5T2vrmHF49LYS\n",
       "1SpQPeVMMILAb5NyC/G+JwFpLbyV/ByWZKLoAwKG15k/QqaGbDPmfxVNnXOxpDDdWsyo15VR5I8Z\n",
       "RdCkrl44SZrAtGjX6ytboZvTYfY+i15C1tA71MxqWwxNT+9P0aAD9AI/PtTLWAUqkXi1H3sjr6Nc\n",
       "bRonttwy1Wu7UkNG2HyEqtmwlwrNkFqI+ITgCpjPPIGHfkPYt3lE4CpreAcf8jAwke/V11tO1yi5\n",
       "MhQbRNwkIZHJoEQTVhTA4Yh2B/pAoXF/LzeuxJcNNAUmB38cAew5zPfx/j7LOvpvFpFQKs2VzSDM\n",
       "LBB741/uAe+i41Oq05t7wBBMGyyYSfw0VlmfAQuwio+WqgYp3hlsovxKrrEsyXKO8vZfiTwzl92/\n",
       "QekY868urk8/wIGRVCykIvCYFKZ26Jvfk8kt8Lx9CWz8yp363M/wpbeyZC2Mv62adXLWOcdSrrHL\n",
       "NIjdN6D5HTp90AjkoflP0Pi9VsXciFAQDllgeQ37QFDA1nKzWGFDJImfrJaTNcinRS3oNrFRsmZp\n",
       "p3TRuRDmyZ5mFEYY60UBUyg0Vj1PmNWF+t+6uDicyWINVy/8EyWlLaN9i/95g2mzoDWMCYddQrio\n",
       "WhFVAnxWUj9fVLj6e43/quzbeYz0W3+UQgHTIzvhgHE9MzX2VPAXS7O2xwnnoI0VPOf6gGfbTYQ9\n",
       "aFbmX0hWRWQ3GKWKQp5GZONHWtQAAASR4QqZAAABWUGaxknhDyZTAgh//qpVAAB3TwVHspRrwqbJ\n",
       "DuKYL67vGcwA1MtWHBLu2itYpRTtdK0OlJBURypypOik0tlIAFckWmYuxsAUBRHHDmqB7No0W4RL\n",
       "W0R4NV8FlBo+V8/HzSh3qkXD6dX2xDo2ks7B7wxffFaLI0xc7DDDX7hU7GNe8MVDdL9nsLSLQZ4B\n",
       "3rNOK1jfUitF5WrIJiLwoBFasSHdu+sYrD7HOMa8kSUElfUyWesX8K5hPhW4cx0/JSvBxops1lnK\n",
       "G82C2gvFHJVT2a7Mz3P0u4ou/PmBlSMf3HZAYOkM6rPy/QdvQak5SirPvCP/1rhirbFndEfNYinP\n",
       "e7RaEirAdTbzcyhItOQ6fviPCFeE6YsVGCeIdvZ3QyzZ57DnT9oWndO7a/920ZQJ5q4wuckuzxXa\n",
       "IoV0DuSKbiNZBP92IyvVSHiZ2IH/lIqOfefJYJ9P3nDpgQAAAYVBmudJ4Q8mUwIIf/6qVQAA+Z4K\n",
       "j2Uo11RqdnbE8P40nJ0Am1SRsV+QgCHnGbaz0vVuk7aU0miaK86pCEpLXJQ17RC1BAT8sCDBxP+O\n",
       "yzH5BP4U/br4YUiE+TD/CksAUwgEN/Nmy5OKgr53UdyBnO5xjXf3IPjTTbkcc8JM3Y+73+DnVBsh\n",
       "3Es0Nz02PVGSD3JbRXI7Wke0Es2PoEEMuEtTaRni3BdaUT44UOq7KxVETZp8BuvMouP2vJoU6wVX\n",
       "3m+zhpsyDmtu0fYZVfFfKdVE2TzD3oiEYDFNXkj6OxBYrhk+ol3WNxwIigbcQHokFeyZ7zxKW2CZ\n",
       "B3ukzo+N8F4gPxHLuvNud484YU9JZnDIW+JKLCK776+JqfhUXJk5JnEq44Ony09clW2RLoi0p2V/\n",
       "Cpveaf7eNcyPaO6Xfg8PZ1xsbjc5y731ruE2NABpCgOhVhW933UknayIXUbtckIsfRgpsKOgTQIK\n",
       "1d6mwysdIv6YOg42QsVtbK4YVHfGqibrGlWEfQAAAZ1BmwhJ4Q8mUwII//61KoAAiDdSwGT9KyxU\n",
       "Zs1GyZ2cMHzyG3MAZRvkLMslIjH3ELPZryfkXwJ5bjqmPG/GqqeUvm/QdEd0KS3u8RxdPJDKRh9g\n",
       "A+ICKqSLlABL7Cn9sH2LUT6BKVKbjf4nttNBaalYIc+XNlaT2rzPKG+piggC5ZbdPZ9bdSJKUOn7\n",
       "udh/TYYbhdvZdf0rGPpNav+uOne6V3Etd3CYw489JaYi/Y7nBYSShPln1HkFErR+/yZtlcYusWHH\n",
       "ui8QbJQdPusSrKQhUwD7MlDNzrO6BllXwkT1JZzP/+Ll2jYNP6OtFh3mRdVrNf4WdHWSFFAFumxb\n",
       "keZhWDAzHoX2iZegmpLcjzxuMAwH4qtqWJ9b2q+S+BBwTGt97oVEnWgvzcH2k48e4X+d246IylMn\n",
       "LLmYWDDLJbac/3MssshzD5z0zBpc3M/hf/R8JRdZ1YwPt6mHq3H+CSKmT52d5JUy4PEd8QB3vCMl\n",
       "wpoLc1Q/AGAA/Xb74dLT/LTNeP+mcMyyCzFuQUOSG/QTJzrOhyKk4j/gz5cRcAAAAwZBmyxJ4Q8m\n",
       "UwII//61KoACYN4NwAnW33xjh/JR5na92IP2cxfE/fLz+rM3zp5dr+p2Aj5z+Ddi+aP9XHrNB8cA\n",
       "P71qiHmO8cxy8tqqq1e6cKNRyzND/J50EaEbriuK3b5+G8EDqydw/ZRotbRnhk2htimySCNgmY/P\n",
       "RDufXTxQK1V+p6o9jXKsjI3MsAnFyVC/1oR06JwNP9KF2aU89pMt0Qyl3QNuaEqFVhzplOale4re\n",
       "JFu5eBfYdWwmgFPLSEZmntvgB87U0OtRfJvnP0JNKBNl5vbescNkUBEF0mKRgVregQIchXrjAd8n\n",
       "VkLdCjs9obUSCDDDa30x89VgQNCUKzAyfkRgq3sFeHDXdYxvLWkx+meieeCYcSpxjlAd5YYDkoUk\n",
       "PkI++IJe7gZ5Y8YryFFekdNyhlrMiEeVdJqC5mciKU8ku1/E6GufEDzRVqLtTzv9cNMHLiQXWIK4\n",
       "HsDP/oF9httNky0FoYqHu7ruTd3W6ZAnGg29v75Xdo78Ysbs9iHsm+4qHXBuwpVAIRjyU+Zvw2Cx\n",
       "N02Jw98qVv55nDUi93W+xZMXCu557jRUTNSXOMprDKzxzWc+oIxUV5fh7CRfEZBJjt9qPxMwfKZ+\n",
       "V1RjMjjEh0nSWkJbMQ76XFU7lCPv5PVtJq2UTRAYUWQtwdR3D/vZi7rcsfzbZDiDZmmn2+A7HoVc\n",
       "Br2ae0HZ1yTB63jV8JSU+jTlU38tr4qS/R9q9D29N9FI/j+4H/RtX1zW7ZTS2AjjOx9pRzzx/AGY\n",
       "RAh5PSCgN5PapB0ZmHgAxKiypzrUt7/W+sk/8rQY/yzGY81HsMJiwxvhS0mv7oSOHi5hWQpEQHG4\n",
       "cw2u9Iigtiv27w/NB5SjexRZMbQVv7naoW7zJfyQaOtsVdViE6kpej72bNPXJu0tndx69bO4N23O\n",
       "9QgRV7iwuk5qW6uE3milErIFvmhaykPZQAcHOEsuHpg5y/VHDC8Mjy17qsGoQZ3z+Hu/4unZNHHf\n",
       "1TCawa68YBTHjPSoiReK2yqK3xeAAQAKEPAAAAIRQZ9KRRE8O/8ACUSAIxYLQEU1q7NvkEAAXLUt\n",
       "pBuQuVgkyetfCOU+WfEDRJ94kZSkqtVtYhEfBKjSdGXC+d2jb91+5pBcpqfmBhKB47YoeNIUmSdn\n",
       "3M1yeL6sdGguNNd43z7j8bIGMX48/Wt6OU3vq4dOrR02GT5K7NrBKRtx4EHtVAU80TypKR1/6q/O\n",
       "TN5ym6PzEH7uPU2EU3n8n8PuwBg8+XbnBpWMzM/o/5/J/arh65SsMayzM3r+l5luw+f3s01AfHRu\n",
       "G5rTanejb2QvcZ300qogYZBij6wPM50ZjitGMRPX+B3K15pYEjb23FQ1GDNn+GJAS3FflJ7I5utg\n",
       "3NC/oWjxwEvJi387LcB3XzE/piDN6pNDJOy6aKIqvMty+6CDbMOC+toRfon5U9gf+HFWVCDVIM5W\n",
       "D92s+nQbUCC03uV2QbC2YOVcEqxDJ+qPv1mCLRwPz1yS9twGfqA8tHAxj8T04kEt5h5RNObu4k3b\n",
       "o8wjzJBwVzznzIFauLUmID6JNAg5rmjqgRVTtY1M4APLNXnrrlcjFvNi2zPs1y+zOzhzo0ZwKZRK\n",
       "HnVd+drA0Qxw1/lw2kun9ozJZAR8e9S+vUi4Nmgdmqc45ZI0rbfQbiug/QZNJzDbaopu+ju4aiY9\n",
       "XS6/oO/MYIPCA7OODKVpgkXXThT//n0/pyIOhST0jOe2l68bdhTiOMoryDIBnwAAASwBn2l0Q38A\n",
       "BkkjrgAnWEh6UovTZ3NRAXee2+IkCEmqJ5PAENddEQU898qQL27ap5d0j0Fz8osGt4QmwP3Bw2XN\n",
       "wTZlX64KAEuWlf0/66qth43H2uxsqtb5IFdXnN4tB21pmi6/0hWlqh9glE5hs3e6/lHRybnlv3y1\n",
       "VJlCKkcj/RsTsQenyV3zZi7dTyNy9SiPI309lIxxJVPawNCA7aNdjQ5RdYV/6UtVZT/N4CsLkLwR\n",
       "jVADkcMvKBWz3kfYm5Tcdl0WGcKkYSAb3QshktRWLZKNC9e7vl2OPjC6mnamZ+mSLb8vBic42OeR\n",
       "s1XsZStoqw8qwQzE9t9s+cEubm/rEcEM5+I6XsNOmXnTzHe2DWQpw72XtZmZMNnen8YJsWlkKYah\n",
       "xsIJ7eoApIAAAAESAZ9rakN/AA0xdl4VYEedBsvlwfXCpjQZ7IHGiip8WWwN5ODIU8uEBPElqqZ5\n",
       "PUrIANpP/TNAsDNP2z73oMNaK21uoejjtvTlvaKl4+w+28tmJXmLJmiUmLgzp15qVIMvu1WgsROq\n",
       "U87V8XWox+1MjozbgOBGRi/fcL9/HpRE9rYXt6me/SlEP9AroKMOS+C9PDuKZgZpUlZNtdJxOu7W\n",
       "52DfjlX5a4wa3l16c/v4TFqUNlDcoP0U7q+VgsNf94zo8Jey4W/tU+GOyeCr8rS6n9BM4SoK/HnX\n",
       "GgVIZPnsja0VhLGZuXNSfcguvIjn2axgPtI95lRnFUQfLWik26OQ5QIWFR/MVZgjeUHS5+0B1gB/\n",
       "gAAABEpBm3BJqEFomUwII//+tSqAApRQ6gAOcvH/Fm4TVPbuVQKHRESBW0xZUBiX/5H7d4fzA5ZY\n",
       "ymUqJPkQLxZvYeFNOD95AuEdhLfAHaKQ8B6oCZZWxB1DNNnQmeCoMMlewNYEKS1zOc3qU3h4k6Fz\n",
       "BO4sBnr7d1lzkKt7o+XuMqw7yMITNh/pyI9cwIPqwPXlJ9nxUEUtTIB3nBn6itHOYtf8j0nQfBen\n",
       "a8p0hVlzO9x7/7xY1mAN2CPlGilLgoZ28wePOAm5sD4B4udHTTqxpXakWDNZdDucAZURKp+nPRYu\n",
       "jR9kJL50NOStri3Cbz+RnyfYwu1J417UiCcmIuJnpXZUhgn/1zG7aj6oys95j08mbIlsBQ8KSQeQ\n",
       "IQpFDBH6bZhdSIylJqfpZOoXefa+OJLIHjAZFUcvO72SF37tNRGdad6YMIfRBbFBF2IRCGzAv3F1\n",
       "sw6WnjaCOECwZ4T5hXJeajE7o6GPbpkzl2pkvdrwRp9AEhT7hl1N9qpKI+/DHHfEhnM8p49HXErN\n",
       "wJ/azCh/amPbcwxX2IxiGCNEaCS0UjBYFS6gA7jw8KSbM/iIBvOCrykit6DZo7/1vvpMoia7HQcS\n",
       "7yYdwHOAX8Yf8c6+9u2ZfFeEsFUbIyDiyT3wtGlJOfrIbD6tECNuqbuof+bObxpuo3f+neDo1sM9\n",
       "J/6Ooq2iy4fl+HT8yHoNEghA9XcHpYd3NbRO35wkNipPBIMYhc8+Pr1LBcaC99iA2VSZ1hYQoPvT\n",
       "/AG2J5vTyB+v5nSxPb+Cjh97+Ilo2ceFYPaWNB0JVUPEFfGoxiK04b8tN371l4ewhU3rVFQo31u7\n",
       "W8sOFFwA+b1UbIk2bBHBg6+qPZbHqHq8j3sAUlZEao3dVwDMYXRffX/Nk0BFUndRsxY7BwreCZOU\n",
       "M3X2wyHP54+ZWqtYbX5Y35ds2LH7fVG4A5mmeGy/du9+E5CA42Fp7+mFT0IGPsI3yp9Ut95IgwhF\n",
       "gHK9s9ENx2A+Dtu+N+Z/P6ti2bXROcF/tX21uZpjUhMDlQGr8ZpOsedxqeqJ5xUO+RuWpVyT+Z6W\n",
       "s5jD2TJ4JmYBR0IDvRPcwYHuFQyYpIzZsovU39KjUaPl7xAAB1UNw3HUu4xHd12bC5cbxXOdSXrK\n",
       "vZVfwBEo3ri+v8qVgkJSm0lVs8YpTueTg0tPoKVJ/kDQoP6THuVP7X4IbxrEjKbT7VdFiV3m6kXp\n",
       "ayfBevuyXDDSXWKRw5lBnswKQYttH3aNgQOPqXdJsN7Y/N1FBSxK7DFxAOCSEKcOvQ0S6MmAUk0F\n",
       "3Iczb5u2cdyuN2GRNx+Dmv7nHyb5Q4uU5lJzMn9rf6V6NcQGcO8Vl3SD11BdEOauUpZ0jSb1fnnU\n",
       "e3KR4hP776ZGoDjt8lxINjZjeCvrNWn29IndsxQ91pHBozjqOPeSxstVGiC77IMCNVHT3H8SsXeY\n",
       "HRkXL3G3DZm0U6KJQUo91tdTy8EAAAIgQZ+ORREsO/8ACgquv+KCW5ZAPuETpZ8RwAQYA9eiSL/u\n",
       "1OCoioxmQ2TMPfUGoTr7hpKUleXwiCBLK02vHFm1SeKHpZ6B9iReoJYMag07CqUkAUa/UHJRlkwd\n",
       "Ul0gz0ddcu+Uzo/k8n+P/5PycjVfBkNQq8J+KjX2vFfbGnevJC+bhdfmDiOPZCnqqPUVU+8HBLZi\n",
       "pv0pm/4wWrX2HhFIL3FOqgejdMddWOOYRM1Czry8jdoKTj6tTfU1WjZK6c8c18O0ir1mgIbIa/TH\n",
       "M31IybUJHSJul2uqmjOwYhSREgHu5gTyoE3DxnD1+F1KnwL3oWBAe8bxX0RbLHzoErZAQEtC2kal\n",
       "GbKm1nRUANqowGXK12glT5xXyIfS5egTcrhz2TWWftVJbviq/wo4OWuF6o8goa1lvlvUTQbAIy3Y\n",
       "n74FKymV3jaLBhncOJVn1DaqP84CnIATCdK6Jfx34mRBQ3ecxk/Vgyn3vkhCLblL28/nD+jk2L6+\n",
       "0XYXOhnzbKo89FHDLCKTlcfdhUcA3WL9yWURBIdoHoryE3qDlq1tT1Qt0RST2867aAOVUIKnI8GA\n",
       "L1S8HUMrbYg2eggv7v3UbqgoOVppycxAExG+hJZQOD0r5P+gmEDF72TAPU/J43FdS1LHBG3Asbqz\n",
       "PZ/u+LDtvzN/nGMiM7RAAMxy2Lbr6nfg4C7z3Fypku7jlY3tIU7n0kYsisMLbzWstYvrgno5wQAA\n",
       "AUIBn610Q38AD2KqfwgJx+VL8sKAB2UF2vTYAQnVZf34yGf+2PgSRhVvX7Dse9EYn79D3sW9tJSU\n",
       "szRrOoe+z7Nwn4b2RU8uYY+D0hfeGl8ndysPrY0gVsiLIzepcfqjRB/cJpdd1ZrP/tuwCQZuz24c\n",
       "R6H3185SEwQWGNDZn6c99p5PIIAooC5uUve5nBiv5CVAqG+PtzUfu70gO4RvjVl0Dj/uzd1RdI3C\n",
       "EwtVd/A4PdSXt6gXtiPZRPNA5wARPWRgn3pRqFRnRGubxFSmnMxrzA32f3iXy3U3j3cCO1d1eMA2\n",
       "LS/HONi3V/ICBgGbGRO/QwShjqfTD5Gl3y4xIGfIjOELw1lNf3hY/1RFppwQHZSyq1Fm4Mbv/LqU\n",
       "ZqaU9W8e87/vZTtOMfuWHQg4SwMpl6gIEADQfqs/b4T0wfWStmURAAABSgGfr2pDfwAPYqqGxMjX\n",
       "QcaHd+GAEHgzzzmyz9HSfKjUFacVn2nY8zv1bm+Cjq5ncAEibZwYScrBPSBaLqbDqAZtvZALoWDn\n",
       "STwUa4cK0CP90ATC7NIpdzImnomX1cPOQ9e6RD6FU64iYLWtiMB1HyWn58ra7K9NNJDoHJUEhcKg\n",
       "rfLB3RSLz1aU5fkuk+MSox5uciEjQoeNMuDVMRV9AyNpf/Au1pmbHdmFMCVi9zSarMLtO4SUN6er\n",
       "mvJty4SGqn8SGZ051UqGevVjGsrvbJjzkalDOxKkg91ofz8JVmrVIfQm7yhXRBZAPC6pAITyX/Qy\n",
       "rbaDRdbcFdXnqO70OHa6btBG7OrkSVOOhp4jWUnSvslWMOt+Ea3H6EaB5QhZeZ0DaSF7XJyaBddE\n",
       "Ba/N1pDnfv4wx3syzvHoF6PBLZk/T5pjjLy8F7X0QAAABFNBm7RJqEFsmUwII//+tSqAAqZQ6gAb\n",
       "sjWbSumUzgQdkYY/8JtWm7CVq3UgUchjIv374gRWadmpAYBXKIiEvuyrA60w4j+9GrbKWOeqzcHE\n",
       "5vB0FdqrMV7F4c0t6y67j6EHmAtyR/2H0U+7/in1tRBRRoenF99BmFB4ccyKYMJxChG+Nxzf/TG8\n",
       "vMUAShy5PCq9HrkHh+lsizrcx+Bv8VgTWOxWGD/xdfY27HIwTxo9a+70JPn6zB7VQQh8XtP1pQqj\n",
       "qDdpm5t+W8xai2lr1Ek5llLY9tZPHrJ0kGVtRsf4CUWoLbEsAf9Tjhq3YQQNXRihzZUWl9aBoIkx\n",
       "nW/5baBsCmET5EkXcjAQMF4TxEWVjhKT3DgQLx/C4gNiKRNSFjoskgE6M9GRXxPFGH6rwq46g2L3\n",
       "ttTIRAbA7PJjitdrv6+rTqgHno45LeIAY7pKNSeSvWEBp80ZhaaPLXO9jF1g4QMKRwV50X8Zhk+g\n",
       "kzFkb2Wsa1LICBANu12q57UgwlsA1SQdGRyvkx+bHnAkYDgTF6dQkCvtiIXlHj67qAxecVp/uCfV\n",
       "cnsOpRbLRTsM7LEDuNyYlLB+yctdkGlat/yoVdOrfvvfAMtCgg4CvFwStJ6KYuDFhmMa7ZqHTGVF\n",
       "3LxwoPOiRI9S+swZUmcOJzzI9bathLUOIhjrdsb/lHzxBJC22Rjvyae5Wg17/pTrlUlR8Ibe+uWi\n",
       "h2NyHVqz/2hITq5slzJqyiFJWK6Pyn+nU9fwcB+7e3sGf09jq/Otc1xZpEPDxmpDRuYbxUtkVYvK\n",
       "COS+RdWxz64JtBOKoBuoSMfRs8clDEMcPiB0tI4E2/mMx2aXScB+AjWnhmp+0dbHOmLNl53Om0oV\n",
       "NY8n++oKkXXVmZG+lsf6EN1+MVpMndqAv/EV/rgXjj+Nsbdf9nLlgMxFv30i+5RZoP2GIj9RoCC8\n",
       "UeITbrhyPEXeXBK5j9UHibdjHX5t2ubKRgWQe+B5mgyXaMO7QSSIugGobmIt95L8bW9sNihV3+ml\n",
       "ZY7x3WyxoSJRBkCE9YC9SlAVc45uthjfl0cr0BXI6D63xjsy6NfUmVCzZEysH/ZbtoIVoD61syim\n",
       "GcG8a0AZnkKNtTMfWejCyWzkF+TbHSXDHNq9o+HgUoDJ6ijhlwGY2WPK7psKjG2juzVhwEJbvCdR\n",
       "vnYe8UY2d4xNdIBVebU/5ftztd2w4DowhKbud+Sggs4qlyvAWQcFqbWla06856TfsJuqh4cLGBJ/\n",
       "rGHvo8+SkeYg7lf2KOLpNnFrVQNfJUNWHegyy/Pi35Q7cQuTdLABAUyMdeo8vCV1OPDz/Atqp6TV\n",
       "TBwKnRqHOp9oOTo8f+S5MUeWpFS5wsqZtlfjxOeVMG3t3psVrEAVXZ1LwZ5GNHQB072FEPk2UUFy\n",
       "3fusW6h+/XtX8qzcqm0DVH59Xm3lJdD/gn5G9n2kguxMwj/R54GWdZ40h5ePdsMir+cmvXoJI6K5\n",
       "nvoAAAGmQZ/SRRUsO/8AClKsaBjxR1fis6ACdtEBh2qDpcEqoFIquc/T7wQkWoEXJYP78lru4kGI\n",
       "/7LLOXw0NrnwGfWUdpKerHDNM3t5Hd1oyVMUGybiiy0fNPC1s1hJMPs6oEph3cQ7idDgsZ1Sk14g\n",
       "/Kxa77o76qxaLcVdqpsLJU5LNYXoyIgFGWW7IU0rn/P13OIKkQXFqaWP/tOOIQ/ykfVOmABhrc3u\n",
       "bNS1926bb/hakWhOOPvwI8lJ5l/Y3/ahaNSWj0W30fAE7MQhGAMuC3T0m1PD0IJXbL6RK28SBg//\n",
       "TdQRUfuWceL7T8j+GVSAF/8dE+1rbZvD4mw/96MApClDqrK9ikZEL8TQbWWL0LwWJxIwT+Ebi4cm\n",
       "dRcNSf1MVcJ2qP8UnojrtkbbFNNX2hARbSzMYWdE8D/P592lbJazJ4MzDnY3j5b5pUPf81Mxubor\n",
       "yW550Ww2PgRNQM9+0/Cy51jtmmbsxFDirrjWNYSZ1VQKAKsGXnejo8bBGUDhjPOBSwAw6GHE+hsQ\n",
       "1MD9YF8wzokFMLTW3CSBBTepnSYBwNDta9IJXjkAAAFWAZ/xdEN/AA4cD9A+yAEJvyaz/RgOSzcG\n",
       "npJAbwXwuqa41pYIWQSIyPuBhQtfB2nv43qE7zId7XLPHjQb8iuxhlvA0Pgo26ozXFMKpihPNyVT\n",
       "5OVxE7OYFuccW+VY7LztqodTv6wb1M7p7txPHAwhWNqSxQldNXkEnAXylDhrdyIqP77qC00ufgWP\n",
       "SWScNIzJxML736uDnqUkTHIFvWH/nB1xnGE/3VbhYadshk0BZNHxrbzNWSYoYFuJvpwlUT40Ha2v\n",
       "P8OlkF/WZmPfyJ8l+NJqi+83nO76AHMGFUVreg1AGnV6ox7sSuAOShKFwG+eoU7IMoO0HiRjN/7i\n",
       "QyEGSrzmRDfPtFsHwj3qxPncO0shk9Qwf/sgR2oc2Xcp5nfVOnvfPLypfjesSTCLSbmCqgCBT60j\n",
       "nWpHPiy18qW285JxafLvY86mVWV4Igu9OPgIUXgncd0wAAABHQGf82pDfwAOgTkPJhXACEnKWo6G\n",
       "YDlCJTS9QG+2fxeBLxtRzwHv8rWkcngWNRcA0xJmtcruVqWf4fgg0g71C2CVAtzZqQ2FClrf8YdC\n",
       "4DlesIXnNgjismW0oZhertqrjZDMMQV/JO5X3Jw/3P3BHWoSqqssBtj9b3MZgJ726qx1998vqhfC\n",
       "o74we8PPf/HbgmGplHN9JnRxZ1JZVN6F53n2ZBDUVGQS9NSjGZXudMKD9UcQnYWb+Ywol+36Ww6r\n",
       "AClUP+YZYtgZ5OKM8uq8lLwyk5Pe+xP+RmAv2/XQqgk8OMiLNPxeL91/cOCtWxQIRPRL8+q1NT3m\n",
       "t+EnOHgF6ASW/BqK3nmOLlJJcCy+vGfnfztX87btGGqtUFQkbQAAA5FBm/hJqEFsmUwIIf/+qlUA\n",
       "BUvE3gBGKPkqVBabDu9VovzcYDLtwoR4f78F5bi5EAyupoo1InBol6OotoDuW6613HDn+sEeXrs9\n",
       "OBoXLpAoY+dtF3cYYfN5Iwj7y0xzbowxCT/+bwVDq5bWZUbDIwmQbuMsVW7cQ6gzjOYM/YDEgXf1\n",
       "AmxvKMxqZUuNJHN8RFJqiM5Fz2ctxIXI91R6Y8LKVfJyeOAywuejTcyv8NmQ8Q6EZdvu29rZ31xj\n",
       "J77mDGpWhY8gJ+IJRkBRDOcYGOltELOhx9Urf+4PQC1Wzf4Sff+bD7jo2AKP3dNnabYFTX/Y/EwI\n",
       "1nIINa+uyZTggj0DJMAVMqyR0hgKUR5dmPkiNGObkLc3AdalZHaGa3GY/E3QLLkRoM+MIef0kXAg\n",
       "ZpapGFu+lyvVJdDuzsQiz3HOTcDYCy80H/haCoFASR6YMn1NRjgfGIw65z3DPZRZDvR2CLcDqga0\n",
       "xHhpS8gAEW6Ht4MU4oW5OmMMD8BKmurIHPf3cQ30REhmWuSEx9EW76iKlB6WGynsHePh8CVIsasj\n",
       "0RSU7c5Rc53hRD0lKaF3BNLr849eXvt+VoyskQE8VHZt9zSgVncCRaFlXw6oB0b+roMEzEKSEu/w\n",
       "2cv6hAqw00VYYi40mTkxKvqGZVLD3iVGsCjZ2aK96u0hvd7NYCn8ybLoOfZ0weHLQvQ1hK3fOI6j\n",
       "Ouf4dOh/Dax991pBcUinsn4+QJImGORVcDZP4TfnV6rcW77yImQfPUNC4NM0YM6ZcX76YqbM3GbV\n",
       "iTLR6TjMFa3D9RwJRqOFUjjIvxecwJLfGNXn4UyMvZy08+mmtCaYPaAc+uGs1mB0NWpI1symiE1+\n",
       "LCSu4rNPyIftFYsGu9ZoUF7PaPAl2SPGpifvt+S8lhW649g+A8YO46gKbMBDiQ5glRPquVtCyDAk\n",
       "qqs2Rqb/aeg8fKtIbWT0nW2Dt7BAhu1pcM4iOHruqPJb7CWNerdvstLQQ8pScr2xpWC0ahgTcpSP\n",
       "JusvrKcIVsFiZOLCcMi4Aik0IE2rMBSldze3C99xMt6OOuZpeFXW8ClpwpZ/WEC6Z+DKVbJxi47T\n",
       "VLebkGKjrkiCwHSqQ6s+seqkPZSyy2ihc47GGMcbwdZVshx9HvDOof1+8Go/3y+gbG0cW1GGp+Qc\n",
       "judZ2fjvym2gjrvZbu7Fuf86IXhjurIL4TGdGYtBbmnNICQVi4pqkShXAAABUUGeFkUVLDv/AApR\n",
       "mogAlquAjvshjCInCqGufoQ5PanDWEKJzA/3AoAe1FXw5ntrW5hILhg2S+ahFcBKVP698AGP2/8f\n",
       "8U1t+/RFGGp8wjdtCo4ForJV0ZDrGK+icncoJVAuw5/AToGuEEXl+48yohTsYLy4peh6+ksbsi9D\n",
       "KYY2EL3VY8PB0H2ynxQ1MVipM0Yt3gXPbm8+SXsfqSJ/f/p8/YyeF1nVYNHWCf9F9IfnP1fhGcfv\n",
       "hjGX+8WB7ClKWxQMO35fGGE166uPEyI+5MvspTXBvdkkh4+kn0XoUss9aEdyyV+MllWcw4kpF5Zz\n",
       "BtKCoBDRvHyiJcKNDN+E/ZGSUl2n98h1/qJexoFF6jsvJK6z8KbMc4QYZHjED1ux0H9vY42Uc20n\n",
       "oaD3Hlw05XV/GUMk/7pE840iEvHGsZ7xiAI321/DaqdIhCszIH8kB8AAAADmAZ41dEN/AA9iqo+s\n",
       "KAEJMhEmEHBzNmyJVMSFTwXgmi++5rubR1PejdGSbVOtFHc8uj+xmwJ+yFZ/GPplLwGSBulB8Lf0\n",
       "PU15Xd7mUIqfri6ByGy1dAYJ6tChxQmtQB5HbaRtiLrzKWXR++TNsyBfiLQrmqdeMvQz++5shm41\n",
       "MsIpycREzyJJCnE1E7zJ1gVFD9UCsq+kTf1S6r3Yy/0rcfB1O0mJqJsP8p16ln1G7KJvkWgCOcjZ\n",
       "pzZg14ztsCwBV0GgPSl9Xj1LAV8HFU15sdCc//WWKII1ZARYFYjn0jOMAqgABQUAAACQAZ43akN/\n",
       "AA9iqo8EOJIByAEL+QU5JwUGXLIN3EQWj472R63W1u1Ypy5hzRsUBt5DgONG4L07SWuBOhZHBvXj\n",
       "sd4fF0o8Fjx2R9NBKxzfLk4JPHZgScGqSbKv0j0NLqH5ljJ/DTl+fdAnpcgjMln8usPmYbvkF/k7\n",
       "oDQi4c9wf3uyxUwiHlPH+VjQJaABlgopAAABokGaOUmoQWyZTAgh//6qVQAFS8fAAEYo+SpWKWZV\n",
       "smFteMU12e0YLazNWXMuWr+8TAfsdxftl5JyKEmOt7CEyYA4Ikst+Jfy5U+3LlbuoE1UhXjOOFNc\n",
       "t9+L6MnsB+sAQtrnF33ioq/6Gaeq6vo105a0piVJbtFnavkCOlIenO66/KSsHcVY5qrTvzmZ7UG5\n",
       "sYGiWz1cR3rFo8qWfOdPl6Yvzj7sQp+ZcFiFtKXKq9vTWJJU8Rcapq28gY2xD5zJZ52dMNIlgq57\n",
       "HVyFxE+QRus0ksqOHmWblfEtuCYzWci/to9vk2lbl1tCVbxUVc1QEC1xpd7Ve+d608FPmkZ7cCaM\n",
       "aW0ifk0ivWh+8znDAlfYmXkHsAWKit9fLUTAefhLxNABkHhrdvZXj4CEoVpEFQX8BYpXAhd00I+s\n",
       "vofo4KQH8YhSTmAEr2byg+4fsMMpCX4j0LT/vgz1PdItogRs2VU28I0QUTZiMCNC0EFgag2P7LF7\n",
       "7ew+lV9Yj7uAt3AWgJoNRTc9QpkYeT2BvB2GuyEKKz3ifhdjO7YffVnu0kzyFsAAAAHLQZpaSeEK\n",
       "UmUwII///rUqgAKmT9IAHFuGLi5kRcqG+nV0eb674FOh/o9PL+jd9JpE+5vZoapnwi3kSMSuW/Fm\n",
       "CeY8dlSD4enTnWUnoDzGSUi33JmQRSPxjqXNruQCaLr269xmgq7RO17TWEGsJ6senq4KYQDkQ2Mx\n",
       "RJ5nVenSPbqM7A4iddo31W1jnVVNtrIV4z1e8vXu9SKGhKQdzs/RdLQ8KldtUBxJBMRy/+gepQ9E\n",
       "J8qpxqHf33mY0XLFwCg0/Zzxc6zIK1iBS1X5YyhDzUdgy7o7lFzlK30nBbtMw0wIzQiOtHLN7ZUP\n",
       "3ZXNmNiBCAGUKxwsaniE7SphEGV5lVGHYMxI4cP8fb12VNkI9YHtr/7v3vBXZf6+iiTiPBpcXVWO\n",
       "wHP+0oP3pPnUaNT/0LHkt/qxoMj1f66FCQkMgTWwpuApp5PwW4CtDIzovDwNP4AhQEOTWkjmQ/sl\n",
       "BkCB2Ccm2V960YQB8p3iGM43LFN0OVgX9gEojeHmQ6Z5xyCrSA+seR3Fu07vD+3EurkXurOgAJnn\n",
       "/4rfvuEZGi9NX39OnijA0QRhno9Vy8vvlVMyg9yI5TIyhYiQP3/9zF1rYCWaBNeHyWFOQiO1AAAB\n",
       "uUGafknhDomUwII//rUqgAKmUOoAFupLFxb6k/9HzvzhVuqRnzJwT2XCOpv84j0zFJCMi/9Nfp6Z\n",
       "SM5SfpOgAIPzisWQdcxRuEpl745yRNZQWq4wNkT6vem19LcyeaapbahQQTxb4h379BjObuOvi2Yl\n",
       "AdCrLFbgKQK9EavfLCVtjr5T2dRJ1m/V0eowB5Kiv25Hm0BlbBUOJ2Kud06VIlbGnyrtiTx5jbX9\n",
       "LieYMqVdPoqB1hBBO76ct3GqSlNyYpaCs4BJ03ajgm/7b50Lng0EwjDYchhofE+b0QbZS8WhCBEO\n",
       "eHjMJ704LJCYcQYPR5U1rcCFfTFGDqcxiiUZIaRXJLgEvKX5LQqcLgBLU8e+93NJrK22D9E8PFrD\n",
       "FoBNzbHh78LzEe7OgfYKXsA2+ekUzuIDMkaWhIAzQaZS2xsCEte/5+Qa+LisTEaEggIWBA8XE7hy\n",
       "tODg752ZaSDbj9FpwZS9zLr7EcQ+Nj7RVTk5j18vVExLRIIdsRDQQEzSMHbJuzRSF4TW7acwk6Un\n",
       "eRnXVzhEsrLctsCMJjAs9+TmzXF+3fKFSGhMgIXMczO21BUpepXKgJSiwAAAAJJBnpxFETw7/wAK\n",
       "UYGrgcIW4ABO5rKmb6K7uFFYQGT+e+y1Wo5hqr6eDNqOWPsY5I4isCVlAqwGLUS2xr1pVZGUs8Wc\n",
       "XWnVYvy804i8UOSwSzSISaAR3AfrBZLmECFlKCWbp3P8USMx22zx5GvQetMZClX5rpglvWZKdpi0\n",
       "e+3k63EddqPvpKdQPyGs/rLBU3AGBQAAAE4Bnrt0Q38AD2KqgyRuNAc0sYx5waABDmvW9nYAhBAo\n",
       "1BlVh4kQIFLQG0YFny6YYZTXt5i2ylgjT8q6cb6L2H5K63Uifjt7FkN003sAz4EAAAAsAZ69akN/\n",
       "AA9iqn6iq/Qf2S4fjumFab1g0waBzCnsDdmcuLOYKJvhIXgANmAAAAE9QZqiSahBaJlMCCH//qpV\n",
       "AAVLx8AALpG/XeeprnoqXWvTdPSzrqXWPz6NHc8LfZ2Au8WxOYMzhZdKClFcheikrbrzE17j2qLi\n",
       "SK763J+7mSD7irNwz0pY0qL7PAoSupMDT6MWryoD3yxIc+bSJ9SIvMiaCvUv1juK9RfM5SgiG2sB\n",
       "gcvmd1/1xN6y3op4MKUhmgdsm7CZJDlKVtSuTyB5ZdigUIFjP3cBdV0WO2apBVUPCQwxKTqRzYwF\n",
       "n9ptGV+v9Cs9xgrSpavO74b2J6v4yz/xWqJ3ELVa9otH8zX8/r8TMGxu0isxlbV1mklnMqyi6ZdU\n",
       "7NInSlgesTfKQhVTP5M0/B4BKY+Y5n6LgBHlucM4GHsMFPvmoD6AH9IE8syxX7cU/oxFyDtUB0rN\n",
       "GKxBIWXWKX1TMjLJFSZiA4AAAABWQZ7ARREsO/8ACeeF1tf3aADtvBdkKKOwpQZhtnk6wk+MirsH\n",
       "goZhkJC6WTYre2kZbYcm0GsDdPq3SsW0z/oWx1Ygf3fvrT7zLqqPpkHdB2oJSuwAXcEAAAAnAZ7/\n",
       "dEN/AA3PMXLIzN41deu9RnPennFJBDrXoFfO87D3wCEgAD5gAAAAIgGe4WpDfwAHw7j7WMn3Q0y1\n",
       "odVwU+VwpCbtFMzzRbXwBL0AAADwQZrmSahBbJlMCHf//qmWABSeQtABOtYcoAcGzBxL+iNmJaCC\n",
       "FVPs6aVyftAv9+EoTnTW3sCphlv6z9NfZo4B9MUbXVHMCRSccAS4blS3NWnXZkok4zwimiQGcT4P\n",
       "4UwGbJ4rAcBrHvprHt7k7rsl5Uq4uAqNmeOro1AsB5K57cqYvD4TcskYy0Rnyk7adNoUmRY2IdfS\n",
       "2UKxZoyGgTsD0bvi6WYvaosNO8zvjLbD2TNlQF7ISfBBcN/mFbo1zshFuxduS/h7OQkNDQ/MDl9B\n",
       "OnC64pjsoAkbTzGJxWJz36FkucGY/d1d3d4tSeYawAGpAAAAP0GfBEUVLDv/AAnBCsMnuO6KACdr\n",
       "pDTnJVC9VWToGFbjnuif8Xxl2a4bfUfJNkcjTvtRkdu6AMB/MNEyAAA3oQAAAB8BnyN0Q38ABm+s\n",
       "/EZ2S6WRXE3S0l8spTTcTGaaAEnBAAAAHwGfJWpDfwAGl3jsSPV2ghwsVAu5KmAB7JDUBwwQA68A\n",
       "AAA7QZsnSahBbJlMCG///qeEACbKPw48wOtRLHMdpbVAAhEnSFT13z0jrK7zNb8aFOo9kNmpD64H\n",
       "lAGAAScAAATHbW9vdgAAAGxtdmhkAAAAAAAAAAAAAAAAAAAD6AAAD6AAAQAAAQAAAAAAAAAAAAAA\n",
       "AAEAAAAAAAAAAAAAAAAAAAABAAAAAAAAAAAAAAAAAABAAAAAAAAAAAAAAAAAAAAAAAAAAAAAAAAA\n",
       "AAAAAAAAAgAAA/F0cmFrAAAAXHRraGQAAAADAAAAAAAAAAAAAAABAAAAAAAAD6AAAAAAAAAAAAAA\n",
       "AAAAAAAAAAEAAAAAAAAAAAAAAAAAAAABAAAAAAAAAAAAAAAAAABAAAAAAfQAAAGQAAAAAAAkZWR0\n",
       "cwAAABxlbHN0AAAAAAAAAAEAAA+gAAAIAAABAAAAAANpbWRpYQAAACBtZGhkAAAAAAAAAAAAAAAA\n",
       "AAAoAAAAoABVxAAAAAAALWhkbHIAAAAAAAAAAHZpZGUAAAAAAAAAAAAAAABWaWRlb0hhbmRsZXIA\n",
       "AAADFG1pbmYAAAAUdm1oZAAAAAEAAAAAAAAAAAAAACRkaW5mAAAAHGRyZWYAAAAAAAAAAQAAAAx1\n",
       "cmwgAAAAAQAAAtRzdGJsAAAAtHN0c2QAAAAAAAAAAQAAAKRhdmMxAAAAAAAAAAEAAAAAAAAAAAAA\n",
       "AAAAAAAAAfQBkABIAAAASAAAAAAAAAABAAAAAAAAAAAAAAAAAAAAAAAAAAAAAAAAAAAAAAAAAAAA\n",
       "GP//AAAAMmF2Y0MBZAAW/+EAGWdkABas2UCAM+fhAAADAAEAAAMAFA8WLZYBAAZo6+PLIsAAAAAc\n",
       "dXVpZGtoQPJfJE/FujmlG88DI/MAAAAAAAAAGHN0dHMAAAAAAAAAAQAAACgAAAQAAAAAFHN0c3MA\n",
       "AAAAAAAAAQAAAAEAAAEIY3R0cwAAAAAAAAAfAAAACQAACAAAAAABAAAUAAAAAAEAAAgAAAAAAQAA\n",
       "AAAAAAABAAAEAAAAAAEAABQAAAAAAQAACAAAAAABAAAAAAAAAAEAAAQAAAAAAQAAFAAAAAABAAAI\n",
       "AAAAAAEAAAAAAAAAAQAABAAAAAABAAAUAAAAAAEAAAgAAAAAAQAAAAAAAAABAAAEAAAAAAIAAAgA\n",
       "AAAAAQAAFAAAAAABAAAIAAAAAAEAAAAAAAAAAQAABAAAAAABAAAUAAAAAAEAAAgAAAAAAQAAAAAA\n",
       "AAABAAAEAAAAAAEAABQAAAAAAQAACAAAAAABAAAAAAAAAAEAAAQAAAAAAQAACAAAAAAcc3RzYwAA\n",
       "AAAAAAABAAAAAQAAACgAAAABAAAAtHN0c3oAAAAAAAAAAAAAACgAABXqAAAByAAAAmEAAAMpAAAC\n",
       "QQAAAoMAAAFdAAABiQAAAaEAAAMKAAACFQAAATAAAAEWAAAETgAAAiQAAAFGAAABTgAABFcAAAGq\n",
       "AAABWgAAASEAAAOVAAABVQAAAOoAAACUAAABpgAAAc8AAAG9AAAAlgAAAFIAAAAwAAABQQAAAFoA\n",
       "AAArAAAAJgAAAPQAAABDAAAAIwAAACMAAAA/AAAAFHN0Y28AAAAAAAAAAQAAACwAAABidWR0YQAA\n",
       "AFptZXRhAAAAAAAAACFoZGxyAAAAAAAAAABtZGlyYXBwbAAAAAAAAAAAAAAAAC1pbHN0AAAAJal0\n",
       "b28AAAAdZGF0YQAAAAEAAAAATGF2ZjU3LjcxLjEwMA==\n",
       "\">\n",
       "  Your browser does not support the video tag.\n",
       "</video>"
      ],
      "text/plain": [
       "<matplotlib.animation.FuncAnimation at 0x7f8c9e763e90>"
      ]
     },
     "execution_count": 12,
     "metadata": {},
     "output_type": "execute_result"
    }
   ],
   "source": [
    "fig = plt.figure(dpi=100, figsize=(5, 4))\n",
    "plt.scatter(x,y)\n",
    "line, = plt.plot(x,lin(a_guess,b_guess,x))\n",
    "plt.close()\n",
    "\n",
    "def animate(i):\n",
    "    line.set_ydata(lin(a_guess,b_guess,x))\n",
    "    for i in range(10): upd()\n",
    "    return line,\n",
    "\n",
    "ani = animation.FuncAnimation(fig, animate, np.arange(0, 40), interval=100)\n",
    "ani"
   ]
  },
  {
   "cell_type": "code",
   "execution_count": null,
   "metadata": {
    "collapsed": true
   },
   "outputs": [],
   "source": []
  }
 ],
 "metadata": {
  "kernelspec": {
   "display_name": "Python 2",
   "language": "python",
   "name": "python2"
  },
  "language_info": {
   "codemirror_mode": {
    "name": "ipython",
    "version": 2
   },
   "file_extension": ".py",
   "mimetype": "text/x-python",
   "name": "python",
   "nbconvert_exporter": "python",
   "pygments_lexer": "ipython2",
   "version": "2.7.13"
  },
  "nav_menu": {},
  "toc": {
   "navigate_menu": true,
   "number_sections": true,
   "sideBar": true,
   "threshold": 6,
   "toc_cell": true,
   "toc_section_display": "block",
   "toc_window_display": false
  },
  "widgets": {
   "state": {},
   "version": "1.1.2"
  }
 },
 "nbformat": 4,
 "nbformat_minor": 1
}
