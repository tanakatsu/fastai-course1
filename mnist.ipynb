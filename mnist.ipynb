{
 "cells": [
  {
   "cell_type": "code",
   "execution_count": 1,
   "metadata": {},
   "outputs": [
    {
     "name": "stderr",
     "output_type": "stream",
     "text": [
      "WARNING (theano.sandbox.cuda): The cuda backend is deprecated and will be removed in the next release (v0.10).  Please switch to the gpuarray backend. You can get more information about how to switch at this URL:\n",
      " https://github.com/Theano/Theano/wiki/Converting-to-the-new-gpu-back-end%28gpuarray%29\n",
      "\n",
      "Using gpu device 0: GeForce GTX 950 (CNMeM is enabled with initial size: 90.0% of memory, cuDNN 5110)\n"
     ]
    }
   ],
   "source": [
    "from theano.sandbox import cuda\n",
    "#cuda.use('gpu2')"
   ]
  },
  {
   "cell_type": "code",
   "execution_count": 2,
   "metadata": {},
   "outputs": [
    {
     "name": "stderr",
     "output_type": "stream",
     "text": [
      "Using Theano backend.\n"
     ]
    }
   ],
   "source": [
    "%matplotlib inline\n",
    "import utils; reload(utils)\n",
    "from utils import *\n",
    "from __future__ import division, print_function"
   ]
  },
  {
   "cell_type": "markdown",
   "metadata": {
    "heading_collapsed": true
   },
   "source": [
    "## Setup"
   ]
  },
  {
   "cell_type": "code",
   "execution_count": 3,
   "metadata": {
    "collapsed": true,
    "hidden": true
   },
   "outputs": [],
   "source": [
    "batch_size=64"
   ]
  },
  {
   "cell_type": "code",
   "execution_count": 4,
   "metadata": {
    "hidden": true
   },
   "outputs": [
    {
     "data": {
      "text/plain": [
       "((60000, 28, 28), (60000,), (10000, 28, 28), (10000,))"
      ]
     },
     "execution_count": 4,
     "metadata": {},
     "output_type": "execute_result"
    }
   ],
   "source": [
    "from keras.datasets import mnist\n",
    "(X_train, y_train), (X_test, y_test) = mnist.load_data()\n",
    "(X_train.shape, y_train.shape, X_test.shape, y_test.shape)"
   ]
  },
  {
   "cell_type": "code",
   "execution_count": 5,
   "metadata": {
    "collapsed": true,
    "hidden": true
   },
   "outputs": [],
   "source": [
    "X_test = np.expand_dims(X_test,1)\n",
    "X_train = np.expand_dims(X_train,1) # (60000, 28, 28) => (600000, 1, 28, 28)"
   ]
  },
  {
   "cell_type": "code",
   "execution_count": 6,
   "metadata": {
    "hidden": true
   },
   "outputs": [
    {
     "data": {
      "text/plain": [
       "(60000, 1, 28, 28)"
      ]
     },
     "execution_count": 6,
     "metadata": {},
     "output_type": "execute_result"
    }
   ],
   "source": [
    "X_train.shape"
   ]
  },
  {
   "cell_type": "code",
   "execution_count": 7,
   "metadata": {
    "hidden": true
   },
   "outputs": [
    {
     "data": {
      "text/plain": [
       "array([5, 0, 4, 1, 9], dtype=uint8)"
      ]
     },
     "execution_count": 7,
     "metadata": {},
     "output_type": "execute_result"
    }
   ],
   "source": [
    "y_train[:5]"
   ]
  },
  {
   "cell_type": "code",
   "execution_count": 8,
   "metadata": {
    "collapsed": true,
    "hidden": true
   },
   "outputs": [],
   "source": [
    "y_train = onehot(y_train)\n",
    "y_test = onehot(y_test)"
   ]
  },
  {
   "cell_type": "code",
   "execution_count": 9,
   "metadata": {
    "hidden": true
   },
   "outputs": [
    {
     "data": {
      "text/plain": [
       "array([[ 0.,  0.,  0.,  0.,  0.,  1.,  0.,  0.,  0.,  0.],\n",
       "       [ 1.,  0.,  0.,  0.,  0.,  0.,  0.,  0.,  0.,  0.],\n",
       "       [ 0.,  0.,  0.,  0.,  1.,  0.,  0.,  0.,  0.,  0.],\n",
       "       [ 0.,  1.,  0.,  0.,  0.,  0.,  0.,  0.,  0.,  0.],\n",
       "       [ 0.,  0.,  0.,  0.,  0.,  0.,  0.,  0.,  0.,  1.]])"
      ]
     },
     "execution_count": 9,
     "metadata": {},
     "output_type": "execute_result"
    }
   ],
   "source": [
    "y_train[:5]"
   ]
  },
  {
   "cell_type": "code",
   "execution_count": 10,
   "metadata": {
    "collapsed": true,
    "hidden": true
   },
   "outputs": [],
   "source": [
    "mean_px = X_train.mean().astype(np.float32)\n",
    "std_px = X_train.std().astype(np.float32)"
   ]
  },
  {
   "cell_type": "code",
   "execution_count": 11,
   "metadata": {
    "collapsed": true,
    "hidden": true
   },
   "outputs": [],
   "source": [
    "def norm_input(x): return (x-mean_px)/std_px"
   ]
  },
  {
   "cell_type": "markdown",
   "metadata": {
    "heading_collapsed": true
   },
   "source": [
    "## Linear model"
   ]
  },
  {
   "cell_type": "code",
   "execution_count": 12,
   "metadata": {
    "collapsed": true,
    "hidden": true
   },
   "outputs": [],
   "source": [
    "def get_lin_model():\n",
    "    model = Sequential([\n",
    "        Lambda(norm_input, input_shape=(1,28,28)),\n",
    "        Flatten(),\n",
    "        Dense(10, activation='softmax')\n",
    "        ])\n",
    "    model.compile(Adam(), loss='categorical_crossentropy', metrics=['accuracy'])\n",
    "    return model"
   ]
  },
  {
   "cell_type": "code",
   "execution_count": 13,
   "metadata": {
    "hidden": true
   },
   "outputs": [
    {
     "name": "stderr",
     "output_type": "stream",
     "text": [
      "/home/tsuyoshi/.pyenv/versions/anaconda3-4.3.0/envs/py2/lib/python2.7/site-packages/keras/layers/core.py:622: UserWarning: `output_shape` argument not specified for layer lambda_1 and cannot be automatically inferred with the Theano backend. Defaulting to output shape `(None, 1, 28, 28)` (same as input shape). If the expected output shape is different, specify it via the `output_shape` argument.\n",
      "  .format(self.name, input_shape))\n"
     ]
    }
   ],
   "source": [
    "lm = get_lin_model()"
   ]
  },
  {
   "cell_type": "code",
   "execution_count": 16,
   "metadata": {
    "collapsed": true,
    "hidden": true
   },
   "outputs": [],
   "source": [
    "gen = image.ImageDataGenerator()\n",
    "batches = gen.flow(X_train, y_train, batch_size=64)\n",
    "test_batches = gen.flow(X_test, y_test, batch_size=64)"
   ]
  },
  {
   "cell_type": "code",
   "execution_count": 16,
   "metadata": {
    "hidden": true
   },
   "outputs": [
    {
     "name": "stdout",
     "output_type": "stream",
     "text": [
      "Epoch 1/1\n",
      "60000/60000 [==============================] - 14s - loss: 0.4236 - acc: 0.8743 - val_loss: 0.3017 - val_acc: 0.9147\n"
     ]
    },
    {
     "data": {
      "text/plain": [
       "<keras.callbacks.History at 0x7efe2ff4bfd0>"
      ]
     },
     "execution_count": 16,
     "metadata": {},
     "output_type": "execute_result"
    }
   ],
   "source": [
    "# http://forums.fast.ai/t/lesson-2-fit-model/1143/5\n",
    "\n",
    "# keras1.1.0\n",
    "#lm.fit_generator(batches, batches.N, nb_epoch=1, \n",
    "#                    validation_data=test_batches, nb_val_samples=test_batches.N)\n",
    "\n",
    "# keras1.2.2\n",
    "lm.fit_generator(batches, batches.n, nb_epoch=1, \n",
    "                    validation_data=test_batches, nb_val_samples=test_batches.n)"
   ]
  },
  {
   "cell_type": "code",
   "execution_count": 17,
   "metadata": {
    "collapsed": true,
    "hidden": true
   },
   "outputs": [],
   "source": [
    "lm.optimizer.lr=0.1"
   ]
  },
  {
   "cell_type": "code",
   "execution_count": 18,
   "metadata": {
    "hidden": true
   },
   "outputs": [
    {
     "name": "stdout",
     "output_type": "stream",
     "text": [
      "Epoch 1/1\n",
      "60000/60000 [==============================] - 14s - loss: 0.2998 - acc: 0.9153 - val_loss: 0.2810 - val_acc: 0.9224\n"
     ]
    },
    {
     "data": {
      "text/plain": [
       "<keras.callbacks.History at 0x7efe2ef71b50>"
      ]
     },
     "execution_count": 18,
     "metadata": {},
     "output_type": "execute_result"
    }
   ],
   "source": [
    "#lm.fit_generator(batches, batches.N, nb_epoch=1, \n",
    "#                    validation_data=test_batches, nb_val_samples=test_batches.N) # keras1.1.0\n",
    "lm.fit_generator(batches, batches.n, nb_epoch=1, \n",
    "                    validation_data=test_batches, nb_val_samples=test_batches.n) # keras1.2.2"
   ]
  },
  {
   "cell_type": "code",
   "execution_count": 19,
   "metadata": {
    "collapsed": true,
    "hidden": true
   },
   "outputs": [],
   "source": [
    "lm.optimizer.lr=0.01"
   ]
  },
  {
   "cell_type": "code",
   "execution_count": 20,
   "metadata": {
    "hidden": true,
    "scrolled": true
   },
   "outputs": [
    {
     "name": "stdout",
     "output_type": "stream",
     "text": [
      "Epoch 1/4\n",
      "60000/60000 [==============================] - 14s - loss: 0.2847 - acc: 0.9199 - val_loss: 0.2964 - val_acc: 0.9141\n",
      "Epoch 2/4\n",
      "60000/60000 [==============================] - 14s - loss: 0.2794 - acc: 0.9218 - val_loss: 0.2735 - val_acc: 0.9220\n",
      "Epoch 3/4\n",
      "60000/60000 [==============================] - 14s - loss: 0.2721 - acc: 0.9238 - val_loss: 0.2952 - val_acc: 0.9189\n",
      "Epoch 4/4\n",
      "60000/60000 [==============================] - 14s - loss: 0.2692 - acc: 0.9250 - val_loss: 0.2784 - val_acc: 0.9220\n"
     ]
    },
    {
     "data": {
      "text/plain": [
       "<keras.callbacks.History at 0x7efe2ef71fd0>"
      ]
     },
     "execution_count": 20,
     "metadata": {},
     "output_type": "execute_result"
    }
   ],
   "source": [
    "#lm.fit_generator(batches, batches.N, nb_epoch=4, \n",
    "#                    validation_data=test_batches, nb_val_samples=test_batches.N) # keras1.1.0\n",
    "lm.fit_generator(batches, batches.n, nb_epoch=4, \n",
    "                    validation_data=test_batches, nb_val_samples=test_batches.n) # keras1.2.2"
   ]
  },
  {
   "cell_type": "markdown",
   "metadata": {
    "heading_collapsed": true
   },
   "source": [
    "## Single dense layer"
   ]
  },
  {
   "cell_type": "code",
   "execution_count": 13,
   "metadata": {
    "hidden": true
   },
   "outputs": [],
   "source": [
    "#def get_fc_model():\n",
    "#    model = Sequential([\n",
    "#        Lambda(norm_input, input_shape=(1,28,28)),\n",
    "#        Flatten(),\n",
    "#        Dense(512, activation='softmax'),\n",
    "#        Dense(10, activation='softmax')\n",
    "#        ])\n",
    "#    model.compile(Adam(), loss='categorical_crossentropy', metrics=['accuracy'])\n",
    "#    return model\n",
    "\n",
    "def get_fc_model():\n",
    "    model = Sequential([\n",
    "        Lambda(norm_input, input_shape=(1,28,28)),\n",
    "        Flatten(),\n",
    "        Dense(512, activation='relu'), # relu\n",
    "        Dense(10, activation='softmax')\n",
    "        ])\n",
    "    model.compile(Adam(), loss='categorical_crossentropy', metrics=['accuracy'])\n",
    "    return model"
   ]
  },
  {
   "cell_type": "code",
   "execution_count": 14,
   "metadata": {
    "hidden": true
   },
   "outputs": [
    {
     "name": "stderr",
     "output_type": "stream",
     "text": [
      "/home/tsuyoshi/.pyenv/versions/anaconda3-4.3.0/envs/py2/lib/python2.7/site-packages/keras/layers/core.py:622: UserWarning: `output_shape` argument not specified for layer lambda_1 and cannot be automatically inferred with the Theano backend. Defaulting to output shape `(None, 1, 28, 28)` (same as input shape). If the expected output shape is different, specify it via the `output_shape` argument.\n",
      "  .format(self.name, input_shape))\n"
     ]
    }
   ],
   "source": [
    "fc = get_fc_model()"
   ]
  },
  {
   "cell_type": "code",
   "execution_count": 17,
   "metadata": {
    "hidden": true
   },
   "outputs": [
    {
     "name": "stdout",
     "output_type": "stream",
     "text": [
      "Epoch 1/1\n",
      "60000/60000 [==============================] - 14s - loss: 0.1913 - acc: 0.9419 - val_loss: 0.0930 - val_acc: 0.9713\n"
     ]
    },
    {
     "data": {
      "text/plain": [
       "<keras.callbacks.History at 0x7fb58f22cfd0>"
      ]
     },
     "execution_count": 17,
     "metadata": {},
     "output_type": "execute_result"
    }
   ],
   "source": [
    "#fc.fit_generator(batches, batches.N, nb_epoch=1, \n",
    "#                    validation_data=test_batches, nb_val_samples=test_batches.N) # keras1.1.0\n",
    "fc.fit_generator(batches, batches.n, nb_epoch=1, \n",
    "                    validation_data=test_batches, nb_val_samples=test_batches.n) # keras1.2.2"
   ]
  },
  {
   "cell_type": "code",
   "execution_count": 18,
   "metadata": {
    "collapsed": true,
    "hidden": true
   },
   "outputs": [],
   "source": [
    "fc.optimizer.lr=0.1"
   ]
  },
  {
   "cell_type": "code",
   "execution_count": 19,
   "metadata": {
    "hidden": true
   },
   "outputs": [
    {
     "name": "stdout",
     "output_type": "stream",
     "text": [
      "Epoch 1/4\n",
      "60000/60000 [==============================] - 14s - loss: 0.0807 - acc: 0.9753 - val_loss: 0.0810 - val_acc: 0.9756\n",
      "Epoch 2/4\n",
      "60000/60000 [==============================] - 14s - loss: 0.0557 - acc: 0.9822 - val_loss: 0.0649 - val_acc: 0.9789\n",
      "Epoch 3/4\n",
      "60000/60000 [==============================] - 14s - loss: 0.0411 - acc: 0.9864 - val_loss: 0.0638 - val_acc: 0.9823\n",
      "Epoch 4/4\n",
      "60000/60000 [==============================] - 14s - loss: 0.0322 - acc: 0.9895 - val_loss: 0.0766 - val_acc: 0.9778\n"
     ]
    },
    {
     "data": {
      "text/plain": [
       "<keras.callbacks.History at 0x7fb58e201c50>"
      ]
     },
     "execution_count": 19,
     "metadata": {},
     "output_type": "execute_result"
    }
   ],
   "source": [
    "#fc.fit_generator(batches, batches.N, nb_epoch=4, \n",
    "#                    validation_data=test_batches, nb_val_samples=test_batches.N) # keras1.1.0\n",
    "fc.fit_generator(batches, batches.n, nb_epoch=4, \n",
    "                    validation_data=test_batches, nb_val_samples=test_batches.n) # keras1.2.2"
   ]
  },
  {
   "cell_type": "code",
   "execution_count": 20,
   "metadata": {
    "collapsed": true,
    "hidden": true
   },
   "outputs": [],
   "source": [
    "fc.optimizer.lr=0.01"
   ]
  },
  {
   "cell_type": "code",
   "execution_count": 21,
   "metadata": {
    "hidden": true,
    "scrolled": true
   },
   "outputs": [
    {
     "name": "stdout",
     "output_type": "stream",
     "text": [
      "Epoch 1/4\n",
      "60000/60000 [==============================] - 14s - loss: 0.0266 - acc: 0.9908 - val_loss: 0.0743 - val_acc: 0.9786\n",
      "Epoch 2/4\n",
      "60000/60000 [==============================] - 14s - loss: 0.0246 - acc: 0.9914 - val_loss: 0.0816 - val_acc: 0.9766\n",
      "Epoch 3/4\n",
      "60000/60000 [==============================] - 14s - loss: 0.0210 - acc: 0.9927 - val_loss: 0.0978 - val_acc: 0.9779\n",
      "Epoch 4/4\n",
      "60000/60000 [==============================] - 14s - loss: 0.0189 - acc: 0.9938 - val_loss: 0.0916 - val_acc: 0.9782\n"
     ]
    },
    {
     "data": {
      "text/plain": [
       "<keras.callbacks.History at 0x7fb58e201c10>"
      ]
     },
     "execution_count": 21,
     "metadata": {},
     "output_type": "execute_result"
    }
   ],
   "source": [
    "#fc.fit_generator(batches, batches.N, nb_epoch=4, \n",
    "#                    validation_data=test_batches, nb_val_samples=test_batches.N) # keras1.1.0\n",
    "fc.fit_generator(batches, batches.n, nb_epoch=4, \n",
    "                    validation_data=test_batches, nb_val_samples=test_batches.n) # keras1.2.2"
   ]
  },
  {
   "cell_type": "markdown",
   "metadata": {
    "heading_collapsed": true
   },
   "source": [
    "## Basic 'VGG-style' CNN"
   ]
  },
  {
   "cell_type": "code",
   "execution_count": 28,
   "metadata": {
    "collapsed": true,
    "hidden": true
   },
   "outputs": [],
   "source": [
    "def get_model():\n",
    "    model = Sequential([\n",
    "        Lambda(norm_input, input_shape=(1,28,28)),\n",
    "        Convolution2D(32,3,3, activation='relu'),\n",
    "        Convolution2D(32,3,3, activation='relu'),\n",
    "        MaxPooling2D(),\n",
    "        Convolution2D(64,3,3, activation='relu'),\n",
    "        Convolution2D(64,3,3, activation='relu'),\n",
    "        MaxPooling2D(),\n",
    "        Flatten(),\n",
    "        Dense(512, activation='relu'),\n",
    "        Dense(10, activation='softmax')\n",
    "        ])\n",
    "    model.compile(Adam(), loss='categorical_crossentropy', metrics=['accuracy']) # lr=0.001\n",
    "    return model"
   ]
  },
  {
   "cell_type": "code",
   "execution_count": 29,
   "metadata": {
    "hidden": true
   },
   "outputs": [
    {
     "name": "stderr",
     "output_type": "stream",
     "text": [
      "/home/tsuyoshi/.pyenv/versions/anaconda3-4.3.0/envs/py2/lib/python2.7/site-packages/keras/layers/core.py:622: UserWarning: `output_shape` argument not specified for layer lambda_3 and cannot be automatically inferred with the Theano backend. Defaulting to output shape `(None, 1, 28, 28)` (same as input shape). If the expected output shape is different, specify it via the `output_shape` argument.\n",
      "  .format(self.name, input_shape))\n"
     ]
    }
   ],
   "source": [
    "model = get_model()"
   ]
  },
  {
   "cell_type": "code",
   "execution_count": 30,
   "metadata": {
    "hidden": true
   },
   "outputs": [
    {
     "name": "stdout",
     "output_type": "stream",
     "text": [
      "Epoch 1/1\n",
      "60000/60000 [==============================] - 15s - loss: 0.1146 - acc: 0.9636 - val_loss: 0.0312 - val_acc: 0.9883\n"
     ]
    },
    {
     "data": {
      "text/plain": [
       "<keras.callbacks.History at 0x7efe24f6ea10>"
      ]
     },
     "execution_count": 30,
     "metadata": {},
     "output_type": "execute_result"
    }
   ],
   "source": [
    "#model.fit_generator(batches, batches.N, nb_epoch=1, \n",
    "#                    validation_data=test_batches, nb_val_samples=test_batches.N) # keras1.1.0\n",
    "model.fit_generator(batches, batches.n, nb_epoch=1, \n",
    "                    validation_data=test_batches, nb_val_samples=test_batches.n) # keras1.2.2"
   ]
  },
  {
   "cell_type": "code",
   "execution_count": 31,
   "metadata": {
    "collapsed": true,
    "hidden": true
   },
   "outputs": [],
   "source": [
    "model.optimizer.lr=0.1"
   ]
  },
  {
   "cell_type": "code",
   "execution_count": 32,
   "metadata": {
    "hidden": true
   },
   "outputs": [
    {
     "name": "stdout",
     "output_type": "stream",
     "text": [
      "Epoch 1/1\n",
      "60000/60000 [==============================] - 15s - loss: 0.0358 - acc: 0.9895 - val_loss: 0.0339 - val_acc: 0.9885\n"
     ]
    },
    {
     "data": {
      "text/plain": [
       "<keras.callbacks.History at 0x7efe1a136710>"
      ]
     },
     "execution_count": 32,
     "metadata": {},
     "output_type": "execute_result"
    }
   ],
   "source": [
    "#model.fit_generator(batches, batches.N, nb_epoch=1, \n",
    "#                    validation_data=test_batches, nb_val_samples=test_batches.N) # keras1.1.0\n",
    "model.fit_generator(batches, batches.n, nb_epoch=1, \n",
    "                    validation_data=test_batches, nb_val_samples=test_batches.n) # keras1.2.2"
   ]
  },
  {
   "cell_type": "code",
   "execution_count": 33,
   "metadata": {
    "collapsed": true,
    "hidden": true
   },
   "outputs": [],
   "source": [
    "model.optimizer.lr=0.01"
   ]
  },
  {
   "cell_type": "code",
   "execution_count": 34,
   "metadata": {
    "hidden": true
   },
   "outputs": [
    {
     "name": "stdout",
     "output_type": "stream",
     "text": [
      "Epoch 1/8\n",
      "60000/60000 [==============================] - 15s - loss: 0.0256 - acc: 0.9920 - val_loss: 0.0277 - val_acc: 0.9918\n",
      "Epoch 2/8\n",
      "60000/60000 [==============================] - 15s - loss: 0.0185 - acc: 0.9943 - val_loss: 0.0314 - val_acc: 0.9909\n",
      "Epoch 3/8\n",
      "60000/60000 [==============================] - 15s - loss: 0.0165 - acc: 0.9943 - val_loss: 0.0247 - val_acc: 0.9924\n",
      "Epoch 4/8\n",
      "60000/60000 [==============================] - 15s - loss: 0.0134 - acc: 0.9957 - val_loss: 0.0257 - val_acc: 0.9931\n",
      "Epoch 5/8\n",
      "60000/60000 [==============================] - 15s - loss: 0.0117 - acc: 0.9963 - val_loss: 0.0195 - val_acc: 0.9949\n",
      "Epoch 6/8\n",
      "60000/60000 [==============================] - 15s - loss: 0.0086 - acc: 0.9974 - val_loss: 0.0298 - val_acc: 0.9910\n",
      "Epoch 7/8\n",
      "60000/60000 [==============================] - 15s - loss: 0.0096 - acc: 0.9970 - val_loss: 0.0282 - val_acc: 0.9929\n",
      "Epoch 8/8\n",
      "60000/60000 [==============================] - 15s - loss: 0.0073 - acc: 0.9979 - val_loss: 0.0281 - val_acc: 0.9935\n"
     ]
    },
    {
     "data": {
      "text/plain": [
       "<keras.callbacks.History at 0x7efe1a136d10>"
      ]
     },
     "execution_count": 34,
     "metadata": {},
     "output_type": "execute_result"
    }
   ],
   "source": [
    "#model.fit_generator(batches, batches.N, nb_epoch=8, \n",
    "#                    validation_data=test_batches, nb_val_samples=test_batches.N) # keras1.1.0\n",
    "model.fit_generator(batches, batches.n, nb_epoch=8, \n",
    "                    validation_data=test_batches, nb_val_samples=test_batches.n) # keras1.2.2"
   ]
  },
  {
   "cell_type": "markdown",
   "metadata": {
    "heading_collapsed": true
   },
   "source": [
    "## Data augmentation"
   ]
  },
  {
   "cell_type": "code",
   "execution_count": 35,
   "metadata": {
    "hidden": true,
    "scrolled": true
   },
   "outputs": [
    {
     "name": "stderr",
     "output_type": "stream",
     "text": [
      "/home/tsuyoshi/.pyenv/versions/anaconda3-4.3.0/envs/py2/lib/python2.7/site-packages/keras/layers/core.py:622: UserWarning: `output_shape` argument not specified for layer lambda_4 and cannot be automatically inferred with the Theano backend. Defaulting to output shape `(None, 1, 28, 28)` (same as input shape). If the expected output shape is different, specify it via the `output_shape` argument.\n",
      "  .format(self.name, input_shape))\n"
     ]
    }
   ],
   "source": [
    "model = get_model()"
   ]
  },
  {
   "cell_type": "code",
   "execution_count": 36,
   "metadata": {
    "collapsed": true,
    "hidden": true
   },
   "outputs": [],
   "source": [
    "gen = image.ImageDataGenerator(rotation_range=8, width_shift_range=0.08, shear_range=0.3,\n",
    "                               height_shift_range=0.08, zoom_range=0.08)\n",
    "batches = gen.flow(X_train, y_train, batch_size=64)\n",
    "test_batches = gen.flow(X_test, y_test, batch_size=64)"
   ]
  },
  {
   "cell_type": "code",
   "execution_count": 37,
   "metadata": {
    "hidden": true
   },
   "outputs": [
    {
     "name": "stdout",
     "output_type": "stream",
     "text": [
      "Epoch 1/1\n",
      "60000/60000 [==============================] - 16s - loss: 0.2016 - acc: 0.9371 - val_loss: 0.0618 - val_acc: 0.9804\n"
     ]
    },
    {
     "data": {
      "text/plain": [
       "<keras.callbacks.History at 0x7efe417a3310>"
      ]
     },
     "execution_count": 37,
     "metadata": {},
     "output_type": "execute_result"
    }
   ],
   "source": [
    "#model.fit_generator(batches, batches.N, nb_epoch=1, \n",
    "#                    validation_data=test_batches, nb_val_samples=test_batches.N) # keras1.1.0\n",
    "model.fit_generator(batches, batches.n, nb_epoch=1, \n",
    "                    validation_data=test_batches, nb_val_samples=test_batches.n) # keras1.2.2"
   ]
  },
  {
   "cell_type": "code",
   "execution_count": 38,
   "metadata": {
    "collapsed": true,
    "hidden": true
   },
   "outputs": [],
   "source": [
    "model.optimizer.lr=0.1"
   ]
  },
  {
   "cell_type": "code",
   "execution_count": 39,
   "metadata": {
    "hidden": true
   },
   "outputs": [
    {
     "name": "stdout",
     "output_type": "stream",
     "text": [
      "Epoch 1/4\n",
      "60000/60000 [==============================] - 16s - loss: 0.0686 - acc: 0.9776 - val_loss: 0.0636 - val_acc: 0.9799\n",
      "Epoch 2/4\n",
      "60000/60000 [==============================] - 16s - loss: 0.0551 - acc: 0.9829 - val_loss: 0.0462 - val_acc: 0.9861\n",
      "Epoch 3/4\n",
      "60000/60000 [==============================] - 16s - loss: 0.0485 - acc: 0.9853 - val_loss: 0.0392 - val_acc: 0.9881\n",
      "Epoch 4/4\n",
      "60000/60000 [==============================] - 16s - loss: 0.0422 - acc: 0.9866 - val_loss: 0.0387 - val_acc: 0.9889\n"
     ]
    },
    {
     "data": {
      "text/plain": [
       "<keras.callbacks.History at 0x7efe40cad490>"
      ]
     },
     "execution_count": 39,
     "metadata": {},
     "output_type": "execute_result"
    }
   ],
   "source": [
    "#model.fit_generator(batches, batches.N, nb_epoch=4, \n",
    "#                    validation_data=test_batches, nb_val_samples=test_batches.N) # keras1.1.0\n",
    "model.fit_generator(batches, batches.n, nb_epoch=4, \n",
    "                    validation_data=test_batches, nb_val_samples=test_batches.n) # keras1.2.2"
   ]
  },
  {
   "cell_type": "code",
   "execution_count": 40,
   "metadata": {
    "collapsed": true,
    "hidden": true
   },
   "outputs": [],
   "source": [
    "model.optimizer.lr=0.01"
   ]
  },
  {
   "cell_type": "code",
   "execution_count": 41,
   "metadata": {
    "hidden": true
   },
   "outputs": [
    {
     "name": "stdout",
     "output_type": "stream",
     "text": [
      "Epoch 1/8\n",
      "60000/60000 [==============================] - 16s - loss: 0.0383 - acc: 0.9883 - val_loss: 0.0402 - val_acc: 0.9868\n",
      "Epoch 2/8\n",
      "60000/60000 [==============================] - 16s - loss: 0.0381 - acc: 0.9877 - val_loss: 0.0336 - val_acc: 0.9892\n",
      "Epoch 3/8\n",
      "60000/60000 [==============================] - 16s - loss: 0.0344 - acc: 0.9892 - val_loss: 0.0351 - val_acc: 0.9882\n",
      "Epoch 4/8\n",
      "60000/60000 [==============================] - 16s - loss: 0.0332 - acc: 0.9897 - val_loss: 0.0303 - val_acc: 0.9898\n",
      "Epoch 5/8\n",
      "60000/60000 [==============================] - 16s - loss: 0.0315 - acc: 0.9898 - val_loss: 0.0267 - val_acc: 0.9905\n",
      "Epoch 6/8\n",
      "60000/60000 [==============================] - 16s - loss: 0.0291 - acc: 0.9909 - val_loss: 0.0300 - val_acc: 0.9911\n",
      "Epoch 7/8\n",
      "60000/60000 [==============================] - 16s - loss: 0.0286 - acc: 0.9910 - val_loss: 0.0332 - val_acc: 0.9892\n",
      "Epoch 8/8\n",
      "60000/60000 [==============================] - 16s - loss: 0.0257 - acc: 0.9919 - val_loss: 0.0365 - val_acc: 0.9896\n"
     ]
    },
    {
     "data": {
      "text/plain": [
       "<keras.callbacks.History at 0x7efe40cad210>"
      ]
     },
     "execution_count": 41,
     "metadata": {},
     "output_type": "execute_result"
    }
   ],
   "source": [
    "#model.fit_generator(batches, batches.N, nb_epoch=8, \n",
    "#                    validation_data=test_batches, nb_val_samples=test_batches.N) # keras1.1.0\n",
    "model.fit_generator(batches, batches.n, nb_epoch=8, \n",
    "                    validation_data=test_batches, nb_val_samples=test_batches.n) # keras1.2.2"
   ]
  },
  {
   "cell_type": "code",
   "execution_count": 42,
   "metadata": {
    "collapsed": true,
    "hidden": true
   },
   "outputs": [],
   "source": [
    "model.optimizer.lr=0.001"
   ]
  },
  {
   "cell_type": "code",
   "execution_count": 43,
   "metadata": {
    "hidden": true
   },
   "outputs": [
    {
     "name": "stdout",
     "output_type": "stream",
     "text": [
      "Epoch 1/14\n",
      "60000/60000 [==============================] - 16s - loss: 0.0260 - acc: 0.9923 - val_loss: 0.0293 - val_acc: 0.9908\n",
      "Epoch 2/14\n",
      "60000/60000 [==============================] - 16s - loss: 0.0251 - acc: 0.9921 - val_loss: 0.0333 - val_acc: 0.9906\n",
      "Epoch 3/14\n",
      "60000/60000 [==============================] - 16s - loss: 0.0240 - acc: 0.9922 - val_loss: 0.0306 - val_acc: 0.9911\n",
      "Epoch 4/14\n",
      "60000/60000 [==============================] - 16s - loss: 0.0253 - acc: 0.9920 - val_loss: 0.0367 - val_acc: 0.9896\n",
      "Epoch 5/14\n",
      "60000/60000 [==============================] - 16s - loss: 0.0225 - acc: 0.9928 - val_loss: 0.0273 - val_acc: 0.9917\n",
      "Epoch 6/14\n",
      "60000/60000 [==============================] - 16s - loss: 0.0235 - acc: 0.9927 - val_loss: 0.0303 - val_acc: 0.9904\n",
      "Epoch 7/14\n",
      "60000/60000 [==============================] - 16s - loss: 0.0223 - acc: 0.9931 - val_loss: 0.0306 - val_acc: 0.9894\n",
      "Epoch 8/14\n",
      "60000/60000 [==============================] - 16s - loss: 0.0222 - acc: 0.9931 - val_loss: 0.0257 - val_acc: 0.9915\n",
      "Epoch 9/14\n",
      "60000/60000 [==============================] - 16s - loss: 0.0218 - acc: 0.9932 - val_loss: 0.0283 - val_acc: 0.9921\n",
      "Epoch 10/14\n",
      "60000/60000 [==============================] - 16s - loss: 0.0216 - acc: 0.9934 - val_loss: 0.0307 - val_acc: 0.9903\n",
      "Epoch 11/14\n",
      "60000/60000 [==============================] - 16s - loss: 0.0202 - acc: 0.9937 - val_loss: 0.0242 - val_acc: 0.9923\n",
      "Epoch 12/14\n",
      "60000/60000 [==============================] - 16s - loss: 0.0208 - acc: 0.9932 - val_loss: 0.0239 - val_acc: 0.9925\n",
      "Epoch 13/14\n",
      "60000/60000 [==============================] - 16s - loss: 0.0192 - acc: 0.9937 - val_loss: 0.0338 - val_acc: 0.9900\n",
      "Epoch 14/14\n",
      "60000/60000 [==============================] - 16s - loss: 0.0216 - acc: 0.9935 - val_loss: 0.0254 - val_acc: 0.9923\n"
     ]
    },
    {
     "data": {
      "text/plain": [
       "<keras.callbacks.History at 0x7efe40cad590>"
      ]
     },
     "execution_count": 43,
     "metadata": {},
     "output_type": "execute_result"
    }
   ],
   "source": [
    "#model.fit_generator(batches, batches.N, nb_epoch=14, \n",
    "#                    validation_data=test_batches, nb_val_samples=test_batches.N) # keras1.1.0\n",
    "model.fit_generator(batches, batches.n, nb_epoch=14, \n",
    "                    validation_data=test_batches, nb_val_samples=test_batches.n) # keras1.2.2"
   ]
  },
  {
   "cell_type": "code",
   "execution_count": 44,
   "metadata": {
    "collapsed": true,
    "hidden": true
   },
   "outputs": [],
   "source": [
    "model.optimizer.lr=0.0001"
   ]
  },
  {
   "cell_type": "code",
   "execution_count": 45,
   "metadata": {
    "hidden": true
   },
   "outputs": [
    {
     "name": "stdout",
     "output_type": "stream",
     "text": [
      "Epoch 1/10\n",
      "60000/60000 [==============================] - 16s - loss: 0.0194 - acc: 0.9940 - val_loss: 0.0278 - val_acc: 0.9920\n",
      "Epoch 2/10\n",
      "60000/60000 [==============================] - 16s - loss: 0.0189 - acc: 0.9943 - val_loss: 0.0294 - val_acc: 0.9914\n",
      "Epoch 3/10\n",
      "60000/60000 [==============================] - 16s - loss: 0.0202 - acc: 0.9937 - val_loss: 0.0270 - val_acc: 0.9921\n",
      "Epoch 4/10\n",
      "60000/60000 [==============================] - 16s - loss: 0.0188 - acc: 0.9939 - val_loss: 0.0308 - val_acc: 0.9913\n",
      "Epoch 5/10\n",
      "60000/60000 [==============================] - 16s - loss: 0.0187 - acc: 0.9941 - val_loss: 0.0270 - val_acc: 0.9925\n",
      "Epoch 6/10\n",
      "60000/60000 [==============================] - 16s - loss: 0.0178 - acc: 0.9945 - val_loss: 0.0278 - val_acc: 0.9904\n",
      "Epoch 7/10\n",
      "60000/60000 [==============================] - 16s - loss: 0.0178 - acc: 0.9944 - val_loss: 0.0282 - val_acc: 0.9918\n",
      "Epoch 8/10\n",
      "60000/60000 [==============================] - 16s - loss: 0.0187 - acc: 0.9939 - val_loss: 0.0253 - val_acc: 0.9914\n",
      "Epoch 9/10\n",
      "60000/60000 [==============================] - 16s - loss: 0.0166 - acc: 0.9949 - val_loss: 0.0304 - val_acc: 0.9912\n",
      "Epoch 10/10\n",
      "60000/60000 [==============================] - 16s - loss: 0.0177 - acc: 0.9949 - val_loss: 0.0255 - val_acc: 0.9925\n"
     ]
    },
    {
     "data": {
      "text/plain": [
       "<keras.callbacks.History at 0x7efe40cad390>"
      ]
     },
     "execution_count": 45,
     "metadata": {},
     "output_type": "execute_result"
    }
   ],
   "source": [
    "#model.fit_generator(batches, batches.N, nb_epoch=10, \n",
    "#                    validation_data=test_batches, nb_val_samples=test_batches.N) # keras1.1.0\n",
    "model.fit_generator(batches, batches.n, nb_epoch=10, \n",
    "                    validation_data=test_batches, nb_val_samples=test_batches.n) # keras1.2.2"
   ]
  },
  {
   "cell_type": "markdown",
   "metadata": {
    "heading_collapsed": true
   },
   "source": [
    "## Batchnorm + data augmentation"
   ]
  },
  {
   "cell_type": "code",
   "execution_count": 46,
   "metadata": {
    "collapsed": true,
    "hidden": true
   },
   "outputs": [],
   "source": [
    "# https://keras.io/ja/layers/normalization/\n",
    "# axis: 整数．正規化する軸（典型的には，特徴量の軸）．例えば，data_format=\"channels_first\"のConv2Dの後では，axis=1にします\n",
    "# axis=0 -> first dimension\n",
    "# axis=-1 -> last dimension\n",
    "\n",
    "def get_model_bn():\n",
    "    model = Sequential([\n",
    "        Lambda(norm_input, input_shape=(1,28,28)),\n",
    "        Convolution2D(32,3,3, activation='relu'),\n",
    "        BatchNormalization(axis=1), \n",
    "        Convolution2D(32,3,3, activation='relu'),\n",
    "        MaxPooling2D(),\n",
    "        BatchNormalization(axis=1),\n",
    "        Convolution2D(64,3,3, activation='relu'),\n",
    "        BatchNormalization(axis=1),\n",
    "        Convolution2D(64,3,3, activation='relu'),\n",
    "        MaxPooling2D(),\n",
    "        Flatten(),\n",
    "        BatchNormalization(), # axis=-1\n",
    "        Dense(512, activation='relu'),\n",
    "        BatchNormalization(),\n",
    "        Dense(10, activation='softmax')\n",
    "        ])\n",
    "    model.compile(Adam(), loss='categorical_crossentropy', metrics=['accuracy'])\n",
    "    return model"
   ]
  },
  {
   "cell_type": "code",
   "execution_count": 47,
   "metadata": {
    "hidden": true
   },
   "outputs": [
    {
     "name": "stderr",
     "output_type": "stream",
     "text": [
      "/home/tsuyoshi/.pyenv/versions/anaconda3-4.3.0/envs/py2/lib/python2.7/site-packages/keras/layers/core.py:622: UserWarning: `output_shape` argument not specified for layer lambda_5 and cannot be automatically inferred with the Theano backend. Defaulting to output shape `(None, 1, 28, 28)` (same as input shape). If the expected output shape is different, specify it via the `output_shape` argument.\n",
      "  .format(self.name, input_shape))\n"
     ]
    }
   ],
   "source": [
    "model = get_model_bn()"
   ]
  },
  {
   "cell_type": "code",
   "execution_count": 48,
   "metadata": {
    "hidden": true,
    "scrolled": true
   },
   "outputs": [
    {
     "name": "stdout",
     "output_type": "stream",
     "text": [
      "Epoch 1/1\n",
      "60000/60000 [==============================] - 19s - loss: 0.1633 - acc: 0.9492 - val_loss: 0.0703 - val_acc: 0.9785\n"
     ]
    },
    {
     "data": {
      "text/plain": [
       "<keras.callbacks.History at 0x7efe3e336b50>"
      ]
     },
     "execution_count": 48,
     "metadata": {},
     "output_type": "execute_result"
    }
   ],
   "source": [
    "#model.fit_generator(batches, batches.N, nb_epoch=1, \n",
    "#                    validation_data=test_batches, nb_val_samples=test_batches.N) # keras1.1.0\n",
    "model.fit_generator(batches, batches.n, nb_epoch=1, \n",
    "                    validation_data=test_batches, nb_val_samples=test_batches.n) # keras1.2.2"
   ]
  },
  {
   "cell_type": "code",
   "execution_count": 49,
   "metadata": {
    "collapsed": true,
    "hidden": true
   },
   "outputs": [],
   "source": [
    "model.optimizer.lr=0.1"
   ]
  },
  {
   "cell_type": "code",
   "execution_count": 50,
   "metadata": {
    "hidden": true
   },
   "outputs": [
    {
     "name": "stdout",
     "output_type": "stream",
     "text": [
      "Epoch 1/4\n",
      "60000/60000 [==============================] - 19s - loss: 0.0737 - acc: 0.9765 - val_loss: 0.0513 - val_acc: 0.9820\n",
      "Epoch 2/4\n",
      "60000/60000 [==============================] - 19s - loss: 0.0603 - acc: 0.9812 - val_loss: 0.0426 - val_acc: 0.9858\n",
      "Epoch 3/4\n",
      "60000/60000 [==============================] - 18s - loss: 0.0532 - acc: 0.9833 - val_loss: 0.0431 - val_acc: 0.9863\n",
      "Epoch 4/4\n",
      "60000/60000 [==============================] - 18s - loss: 0.0488 - acc: 0.9845 - val_loss: 0.0462 - val_acc: 0.9838\n"
     ]
    },
    {
     "data": {
      "text/plain": [
       "<keras.callbacks.History at 0x7efe40c0fcd0>"
      ]
     },
     "execution_count": 50,
     "metadata": {},
     "output_type": "execute_result"
    }
   ],
   "source": [
    "#model.fit_generator(batches, batches.N, nb_epoch=4, \n",
    "#                    validation_data=test_batches, nb_val_samples=test_batches.N) # keras1.1.0\n",
    "model.fit_generator(batches, batches.n, nb_epoch=4, \n",
    "                    validation_data=test_batches, nb_val_samples=test_batches.n) # keras1.2.2"
   ]
  },
  {
   "cell_type": "code",
   "execution_count": 51,
   "metadata": {
    "collapsed": true,
    "hidden": true
   },
   "outputs": [],
   "source": [
    "model.optimizer.lr=0.01"
   ]
  },
  {
   "cell_type": "code",
   "execution_count": 52,
   "metadata": {
    "hidden": true
   },
   "outputs": [
    {
     "name": "stdout",
     "output_type": "stream",
     "text": [
      "Epoch 1/12\n",
      "60000/60000 [==============================] - 18s - loss: 0.0452 - acc: 0.9861 - val_loss: 0.0367 - val_acc: 0.9884\n",
      "Epoch 2/12\n",
      "60000/60000 [==============================] - 18s - loss: 0.0427 - acc: 0.9868 - val_loss: 0.0383 - val_acc: 0.9886\n",
      "Epoch 3/12\n",
      "60000/60000 [==============================] - 18s - loss: 0.0382 - acc: 0.9881 - val_loss: 0.0321 - val_acc: 0.9899\n",
      "Epoch 4/12\n",
      "60000/60000 [==============================] - 18s - loss: 0.0387 - acc: 0.9880 - val_loss: 0.0316 - val_acc: 0.9888\n",
      "Epoch 5/12\n",
      "60000/60000 [==============================] - 18s - loss: 0.0353 - acc: 0.9889 - val_loss: 0.0288 - val_acc: 0.9901\n",
      "Epoch 6/12\n",
      "60000/60000 [==============================] - 18s - loss: 0.0329 - acc: 0.9894 - val_loss: 0.0283 - val_acc: 0.9919\n",
      "Epoch 7/12\n",
      "60000/60000 [==============================] - 18s - loss: 0.0319 - acc: 0.9902 - val_loss: 0.0249 - val_acc: 0.9919\n",
      "Epoch 8/12\n",
      "60000/60000 [==============================] - 18s - loss: 0.0303 - acc: 0.9904 - val_loss: 0.0271 - val_acc: 0.9917\n",
      "Epoch 9/12\n",
      "60000/60000 [==============================] - 18s - loss: 0.0295 - acc: 0.9907 - val_loss: 0.0290 - val_acc: 0.9909\n",
      "Epoch 10/12\n",
      "60000/60000 [==============================] - 18s - loss: 0.0269 - acc: 0.9913 - val_loss: 0.0368 - val_acc: 0.9881\n",
      "Epoch 11/12\n",
      "60000/60000 [==============================] - 18s - loss: 0.0248 - acc: 0.9925 - val_loss: 0.0261 - val_acc: 0.9922\n",
      "Epoch 12/12\n",
      "60000/60000 [==============================] - 18s - loss: 0.0265 - acc: 0.9917 - val_loss: 0.0341 - val_acc: 0.9895\n"
     ]
    },
    {
     "data": {
      "text/plain": [
       "<keras.callbacks.History at 0x7efe40bc8110>"
      ]
     },
     "execution_count": 52,
     "metadata": {},
     "output_type": "execute_result"
    }
   ],
   "source": [
    "#model.fit_generator(batches, batches.N, nb_epoch=12, \n",
    "#                    validation_data=test_batches, nb_val_samples=test_batches.N) # keras1.1.0\n",
    "model.fit_generator(batches, batches.n, nb_epoch=12, \n",
    "                    validation_data=test_batches, nb_val_samples=test_batches.n) # keras1.2.2"
   ]
  },
  {
   "cell_type": "code",
   "execution_count": 53,
   "metadata": {
    "collapsed": true,
    "hidden": true
   },
   "outputs": [],
   "source": [
    "model.optimizer.lr=0.001"
   ]
  },
  {
   "cell_type": "code",
   "execution_count": 54,
   "metadata": {
    "hidden": true
   },
   "outputs": [
    {
     "name": "stdout",
     "output_type": "stream",
     "text": [
      "Epoch 1/12\n",
      "60000/60000 [==============================] - 18s - loss: 0.0245 - acc: 0.9923 - val_loss: 0.0227 - val_acc: 0.9933\n",
      "Epoch 2/12\n",
      "60000/60000 [==============================] - 18s - loss: 0.0233 - acc: 0.9929 - val_loss: 0.0277 - val_acc: 0.9904\n",
      "Epoch 3/12\n",
      "60000/60000 [==============================] - 18s - loss: 0.0230 - acc: 0.9927 - val_loss: 0.0271 - val_acc: 0.9923\n",
      "Epoch 4/12\n",
      "60000/60000 [==============================] - 18s - loss: 0.0243 - acc: 0.9923 - val_loss: 0.0234 - val_acc: 0.9925\n",
      "Epoch 5/12\n",
      "60000/60000 [==============================] - 18s - loss: 0.0232 - acc: 0.9929 - val_loss: 0.0216 - val_acc: 0.9923\n",
      "Epoch 6/12\n",
      "60000/60000 [==============================] - 18s - loss: 0.0213 - acc: 0.9930 - val_loss: 0.0225 - val_acc: 0.9928\n",
      "Epoch 7/12\n",
      "60000/60000 [==============================] - 18s - loss: 0.0206 - acc: 0.9932 - val_loss: 0.0266 - val_acc: 0.9925\n",
      "Epoch 8/12\n",
      "60000/60000 [==============================] - 18s - loss: 0.0219 - acc: 0.9928 - val_loss: 0.0240 - val_acc: 0.9929\n",
      "Epoch 9/12\n",
      "60000/60000 [==============================] - 18s - loss: 0.0204 - acc: 0.9934 - val_loss: 0.0293 - val_acc: 0.9913\n",
      "Epoch 10/12\n",
      "60000/60000 [==============================] - 18s - loss: 0.0204 - acc: 0.9938 - val_loss: 0.0223 - val_acc: 0.9929\n",
      "Epoch 11/12\n",
      "60000/60000 [==============================] - 18s - loss: 0.0189 - acc: 0.9938 - val_loss: 0.0248 - val_acc: 0.9924\n",
      "Epoch 12/12\n",
      "60000/60000 [==============================] - 18s - loss: 0.0189 - acc: 0.9937 - val_loss: 0.0265 - val_acc: 0.9907\n"
     ]
    },
    {
     "data": {
      "text/plain": [
       "<keras.callbacks.History at 0x7efe40cadb50>"
      ]
     },
     "execution_count": 54,
     "metadata": {},
     "output_type": "execute_result"
    }
   ],
   "source": [
    "#model.fit_generator(batches, batches.N, nb_epoch=12, \n",
    "#                    validation_data=test_batches, nb_val_samples=test_batches.N) # keras1.1.0\n",
    "model.fit_generator(batches, batches.n, nb_epoch=12, \n",
    "                    validation_data=test_batches, nb_val_samples=test_batches.n) # keras1.2.2"
   ]
  },
  {
   "cell_type": "markdown",
   "metadata": {
    "heading_collapsed": true
   },
   "source": [
    "## Batchnorm + dropout + data augmentation"
   ]
  },
  {
   "cell_type": "code",
   "execution_count": 55,
   "metadata": {
    "collapsed": true,
    "hidden": true
   },
   "outputs": [],
   "source": [
    "def get_model_bn_do():\n",
    "    model = Sequential([\n",
    "        Lambda(norm_input, input_shape=(1,28,28)),\n",
    "        Convolution2D(32,3,3, activation='relu'),\n",
    "        BatchNormalization(axis=1),\n",
    "        Convolution2D(32,3,3, activation='relu'),\n",
    "        MaxPooling2D(),\n",
    "        BatchNormalization(axis=1),\n",
    "        Convolution2D(64,3,3, activation='relu'),\n",
    "        BatchNormalization(axis=1),\n",
    "        Convolution2D(64,3,3, activation='relu'),\n",
    "        MaxPooling2D(),\n",
    "        Flatten(),\n",
    "        BatchNormalization(),\n",
    "        Dense(512, activation='relu'),\n",
    "        BatchNormalization(),\n",
    "        Dropout(0.5),\n",
    "        Dense(10, activation='softmax')\n",
    "        ])\n",
    "    model.compile(Adam(), loss='categorical_crossentropy', metrics=['accuracy'])\n",
    "    return model"
   ]
  },
  {
   "cell_type": "code",
   "execution_count": 56,
   "metadata": {
    "hidden": true
   },
   "outputs": [
    {
     "name": "stderr",
     "output_type": "stream",
     "text": [
      "/home/tsuyoshi/.pyenv/versions/anaconda3-4.3.0/envs/py2/lib/python2.7/site-packages/keras/layers/core.py:622: UserWarning: `output_shape` argument not specified for layer lambda_6 and cannot be automatically inferred with the Theano backend. Defaulting to output shape `(None, 1, 28, 28)` (same as input shape). If the expected output shape is different, specify it via the `output_shape` argument.\n",
      "  .format(self.name, input_shape))\n"
     ]
    }
   ],
   "source": [
    "model = get_model_bn_do()"
   ]
  },
  {
   "cell_type": "code",
   "execution_count": 57,
   "metadata": {
    "hidden": true,
    "scrolled": true
   },
   "outputs": [
    {
     "name": "stdout",
     "output_type": "stream",
     "text": [
      "Epoch 1/1\n",
      "60000/60000 [==============================] - 19s - loss: 0.2258 - acc: 0.9318 - val_loss: 0.0704 - val_acc: 0.9784\n"
     ]
    },
    {
     "data": {
      "text/plain": [
       "<keras.callbacks.History at 0x7efe045b4390>"
      ]
     },
     "execution_count": 57,
     "metadata": {},
     "output_type": "execute_result"
    }
   ],
   "source": [
    "#model.fit_generator(batches, batches.N, nb_epoch=1, \n",
    "#                    validation_data=test_batches, nb_val_samples=test_batches.N) # keras1.1.0\n",
    "model.fit_generator(batches, batches.n, nb_epoch=1, \n",
    "                    validation_data=test_batches, nb_val_samples=test_batches.n) # keras1.2.2"
   ]
  },
  {
   "cell_type": "code",
   "execution_count": 58,
   "metadata": {
    "collapsed": true,
    "hidden": true
   },
   "outputs": [],
   "source": [
    "model.optimizer.lr=0.1"
   ]
  },
  {
   "cell_type": "code",
   "execution_count": 59,
   "metadata": {
    "hidden": true,
    "scrolled": false
   },
   "outputs": [
    {
     "name": "stdout",
     "output_type": "stream",
     "text": [
      "Epoch 1/4\n",
      "60000/60000 [==============================] - 19s - loss: 0.0873 - acc: 0.9730 - val_loss: 0.0641 - val_acc: 0.9802\n",
      "Epoch 2/4\n",
      "60000/60000 [==============================] - 19s - loss: 0.0755 - acc: 0.9765 - val_loss: 0.0460 - val_acc: 0.9848\n",
      "Epoch 3/4\n",
      "60000/60000 [==============================] - 18s - loss: 0.0654 - acc: 0.9799 - val_loss: 0.0477 - val_acc: 0.9847\n",
      "Epoch 4/4\n",
      "60000/60000 [==============================] - 19s - loss: 0.0589 - acc: 0.9820 - val_loss: 0.0357 - val_acc: 0.9889\n"
     ]
    },
    {
     "data": {
      "text/plain": [
       "<keras.callbacks.History at 0x7efe045b4e50>"
      ]
     },
     "execution_count": 59,
     "metadata": {},
     "output_type": "execute_result"
    }
   ],
   "source": [
    "#model.fit_generator(batches, batches.N, nb_epoch=4, \n",
    "#                    validation_data=test_batches, nb_val_samples=test_batches.N) # keras1.1.0\n",
    "model.fit_generator(batches, batches.n, nb_epoch=4, \n",
    "                    validation_data=test_batches, nb_val_samples=test_batches.n) # keras1.2.2"
   ]
  },
  {
   "cell_type": "code",
   "execution_count": 60,
   "metadata": {
    "collapsed": true,
    "hidden": true
   },
   "outputs": [],
   "source": [
    "model.optimizer.lr=0.01"
   ]
  },
  {
   "cell_type": "code",
   "execution_count": 61,
   "metadata": {
    "hidden": true,
    "scrolled": true
   },
   "outputs": [
    {
     "name": "stdout",
     "output_type": "stream",
     "text": [
      "Epoch 1/12\n",
      "60000/60000 [==============================] - 19s - loss: 0.0602 - acc: 0.9819 - val_loss: 0.0385 - val_acc: 0.9872\n",
      "Epoch 2/12\n",
      "60000/60000 [==============================] - 19s - loss: 0.0547 - acc: 0.9834 - val_loss: 0.0401 - val_acc: 0.9873\n",
      "Epoch 3/12\n",
      "60000/60000 [==============================] - 19s - loss: 0.0524 - acc: 0.9842 - val_loss: 0.0362 - val_acc: 0.9884\n",
      "Epoch 4/12\n",
      "60000/60000 [==============================] - 19s - loss: 0.0490 - acc: 0.9855 - val_loss: 0.0253 - val_acc: 0.9925\n",
      "Epoch 5/12\n",
      "60000/60000 [==============================] - 19s - loss: 0.0456 - acc: 0.9859 - val_loss: 0.0249 - val_acc: 0.9915\n",
      "Epoch 6/12\n",
      "60000/60000 [==============================] - 19s - loss: 0.0439 - acc: 0.9871 - val_loss: 0.0349 - val_acc: 0.9888\n",
      "Epoch 7/12\n",
      "60000/60000 [==============================] - 19s - loss: 0.0420 - acc: 0.9872 - val_loss: 0.0298 - val_acc: 0.9900\n",
      "Epoch 8/12\n",
      "60000/60000 [==============================] - 18s - loss: 0.0421 - acc: 0.9876 - val_loss: 0.0290 - val_acc: 0.9914 ETA: 0s - loss: 0.0418\n",
      "Epoch 9/12\n",
      "60000/60000 [==============================] - 18s - loss: 0.0368 - acc: 0.9887 - val_loss: 0.0282 - val_acc: 0.9909\n",
      "Epoch 10/12\n",
      "60000/60000 [==============================] - 18s - loss: 0.0382 - acc: 0.9881 - val_loss: 0.0257 - val_acc: 0.9920\n",
      "Epoch 11/12\n",
      "60000/60000 [==============================] - 18s - loss: 0.0361 - acc: 0.9893 - val_loss: 0.0286 - val_acc: 0.9917\n",
      "Epoch 12/12\n",
      "60000/60000 [==============================] - 18s - loss: 0.0356 - acc: 0.9893 - val_loss: 0.0264 - val_acc: 0.9920\n"
     ]
    },
    {
     "data": {
      "text/plain": [
       "<keras.callbacks.History at 0x7efe045b4f90>"
      ]
     },
     "execution_count": 61,
     "metadata": {},
     "output_type": "execute_result"
    }
   ],
   "source": [
    "#model.fit_generator(batches, batches.N, nb_epoch=12, \n",
    "#                    validation_data=test_batches, nb_val_samples=test_batches.N) # keras1.1.0\n",
    "model.fit_generator(batches, batches.n, nb_epoch=12, \n",
    "                    validation_data=test_batches, nb_val_samples=test_batches.n) # keras1.2.2"
   ]
  },
  {
   "cell_type": "code",
   "execution_count": 62,
   "metadata": {
    "collapsed": true,
    "hidden": true
   },
   "outputs": [],
   "source": [
    "model.optimizer.lr=0.001"
   ]
  },
  {
   "cell_type": "code",
   "execution_count": 63,
   "metadata": {
    "hidden": true,
    "scrolled": true
   },
   "outputs": [
    {
     "name": "stdout",
     "output_type": "stream",
     "text": [
      "Epoch 1/1\n",
      "60000/60000 [==============================] - 18s - loss: 0.0339 - acc: 0.9893 - val_loss: 0.0240 - val_acc: 0.9923\n"
     ]
    },
    {
     "data": {
      "text/plain": [
       "<keras.callbacks.History at 0x7efe045b47d0>"
      ]
     },
     "execution_count": 63,
     "metadata": {},
     "output_type": "execute_result"
    }
   ],
   "source": [
    "#model.fit_generator(batches, batches.N, nb_epoch=1, \n",
    "#                    validation_data=test_batches, nb_val_samples=test_batches.N) # keras1.1.0\n",
    "model.fit_generator(batches, batches.n, nb_epoch=1, \n",
    "                    validation_data=test_batches, nb_val_samples=test_batches.n) # keras1.2.2"
   ]
  },
  {
   "cell_type": "markdown",
   "metadata": {},
   "source": [
    "## Ensembling"
   ]
  },
  {
   "cell_type": "code",
   "execution_count": 65,
   "metadata": {
    "collapsed": true
   },
   "outputs": [],
   "source": [
    "def fit_model():\n",
    "    model = get_model_bn_do()\n",
    "#    model.fit_generator(batches, batches.N, nb_epoch=1, verbose=0,\n",
    "#                        validation_data=test_batches, nb_val_samples=test_batches.N)\n",
    "    model.fit_generator(batches, batches.n, nb_epoch=1, verbose=0,\n",
    "                        validation_data=test_batches, nb_val_samples=test_batches.n)    \n",
    "    model.optimizer.lr=0.1\n",
    "#    model.fit_generator(batches, batches.N, nb_epoch=4, verbose=0,\n",
    "#                        validation_data=test_batches, nb_val_samples=test_batches.N)\n",
    "    model.fit_generator(batches, batches.n, nb_epoch=4, verbose=0,\n",
    "                        validation_data=test_batches, nb_val_samples=test_batches.n)    \n",
    "    model.optimizer.lr=0.01\n",
    "#    model.fit_generator(batches, batches.N, nb_epoch=12, verbose=0,\n",
    "#                        validation_data=test_batches, nb_val_samples=test_batches.N)\n",
    "    model.fit_generator(batches, batches.n, nb_epoch=12, verbose=0,\n",
    "                        validation_data=test_batches, nb_val_samples=test_batches.n)    \n",
    "    model.optimizer.lr=0.001\n",
    "#    model.fit_generator(batches, batches.N, nb_epoch=18, verbose=0,\n",
    "#                        validation_data=test_batches, nb_val_samples=test_batches.N)\n",
    "    model.fit_generator(batches, batches.n, nb_epoch=18, verbose=0,\n",
    "                        validation_data=test_batches, nb_val_samples=test_batches.n)    \n",
    "    return model"
   ]
  },
  {
   "cell_type": "code",
   "execution_count": 66,
   "metadata": {},
   "outputs": [
    {
     "name": "stderr",
     "output_type": "stream",
     "text": [
      "/home/tsuyoshi/.pyenv/versions/anaconda3-4.3.0/envs/py2/lib/python2.7/site-packages/keras/layers/core.py:622: UserWarning: `output_shape` argument not specified for layer lambda_7 and cannot be automatically inferred with the Theano backend. Defaulting to output shape `(None, 1, 28, 28)` (same as input shape). If the expected output shape is different, specify it via the `output_shape` argument.\n",
      "  .format(self.name, input_shape))\n",
      "/home/tsuyoshi/.pyenv/versions/anaconda3-4.3.0/envs/py2/lib/python2.7/site-packages/keras/layers/core.py:622: UserWarning: `output_shape` argument not specified for layer lambda_8 and cannot be automatically inferred with the Theano backend. Defaulting to output shape `(None, 1, 28, 28)` (same as input shape). If the expected output shape is different, specify it via the `output_shape` argument.\n",
      "  .format(self.name, input_shape))\n",
      "/home/tsuyoshi/.pyenv/versions/anaconda3-4.3.0/envs/py2/lib/python2.7/site-packages/keras/layers/core.py:622: UserWarning: `output_shape` argument not specified for layer lambda_9 and cannot be automatically inferred with the Theano backend. Defaulting to output shape `(None, 1, 28, 28)` (same as input shape). If the expected output shape is different, specify it via the `output_shape` argument.\n",
      "  .format(self.name, input_shape))\n",
      "/home/tsuyoshi/.pyenv/versions/anaconda3-4.3.0/envs/py2/lib/python2.7/site-packages/keras/layers/core.py:622: UserWarning: `output_shape` argument not specified for layer lambda_10 and cannot be automatically inferred with the Theano backend. Defaulting to output shape `(None, 1, 28, 28)` (same as input shape). If the expected output shape is different, specify it via the `output_shape` argument.\n",
      "  .format(self.name, input_shape))\n",
      "/home/tsuyoshi/.pyenv/versions/anaconda3-4.3.0/envs/py2/lib/python2.7/site-packages/keras/layers/core.py:622: UserWarning: `output_shape` argument not specified for layer lambda_11 and cannot be automatically inferred with the Theano backend. Defaulting to output shape `(None, 1, 28, 28)` (same as input shape). If the expected output shape is different, specify it via the `output_shape` argument.\n",
      "  .format(self.name, input_shape))\n",
      "/home/tsuyoshi/.pyenv/versions/anaconda3-4.3.0/envs/py2/lib/python2.7/site-packages/keras/layers/core.py:622: UserWarning: `output_shape` argument not specified for layer lambda_12 and cannot be automatically inferred with the Theano backend. Defaulting to output shape `(None, 1, 28, 28)` (same as input shape). If the expected output shape is different, specify it via the `output_shape` argument.\n",
      "  .format(self.name, input_shape))\n"
     ]
    }
   ],
   "source": [
    "models = [fit_model() for i in range(6)]"
   ]
  },
  {
   "cell_type": "code",
   "execution_count": 67,
   "metadata": {
    "collapsed": true
   },
   "outputs": [],
   "source": [
    "path = \"data/mnist/\"\n",
    "model_path = path + 'models/'"
   ]
  },
  {
   "cell_type": "code",
   "execution_count": 68,
   "metadata": {
    "collapsed": true
   },
   "outputs": [],
   "source": [
    "for i,m in enumerate(models):\n",
    "    m.save_weights(model_path+'cnn-mnist23-'+str(i)+'.pkl')"
   ]
  },
  {
   "cell_type": "code",
   "execution_count": 69,
   "metadata": {},
   "outputs": [
    {
     "name": "stdout",
     "output_type": "stream",
     "text": [
      " 9216/10000 [==========================>...] - ETA: 0s"
     ]
    }
   ],
   "source": [
    "evals = np.array([m.evaluate(X_test, y_test, batch_size=256) for m in models]) # (6, 2)"
   ]
  },
  {
   "cell_type": "code",
   "execution_count": 71,
   "metadata": {},
   "outputs": [
    {
     "data": {
      "text/plain": [
       "array([ 0.0137,  0.9958])"
      ]
     },
     "execution_count": 71,
     "metadata": {},
     "output_type": "execute_result"
    }
   ],
   "source": [
    "evals.mean(axis=0)"
   ]
  },
  {
   "cell_type": "code",
   "execution_count": 72,
   "metadata": {
    "collapsed": true
   },
   "outputs": [],
   "source": [
    "all_preds = np.stack([m.predict(X_test, batch_size=256) for m in models]) # (6, 10000, 10)"
   ]
  },
  {
   "cell_type": "code",
   "execution_count": 71,
   "metadata": {},
   "outputs": [
    {
     "data": {
      "text/plain": [
       "(6, 10000, 10)"
      ]
     },
     "execution_count": 71,
     "metadata": {},
     "output_type": "execute_result"
    }
   ],
   "source": [
    "all_preds.shape"
   ]
  },
  {
   "cell_type": "code",
   "execution_count": 73,
   "metadata": {
    "collapsed": true
   },
   "outputs": [],
   "source": [
    "avg_preds = all_preds.mean(axis=0) # (10000, 10)"
   ]
  },
  {
   "cell_type": "code",
   "execution_count": 75,
   "metadata": {
    "scrolled": true
   },
   "outputs": [
    {
     "data": {
      "text/plain": [
       "array(0.9969000220298767, dtype=float32)"
      ]
     },
     "execution_count": 75,
     "metadata": {},
     "output_type": "execute_result"
    }
   ],
   "source": [
    "keras.metrics.categorical_accuracy(y_test, avg_preds).eval()"
   ]
  },
  {
   "cell_type": "markdown",
   "metadata": {
    "collapsed": true
   },
   "source": [
    "| Model | Train loss | Train accuracy | Test loss | Test accuracy |\n",
    "|:-----------|------------|------------|------------|------------|\n",
    "| Linear model | 0.4236 | 0.8743 | 0.3017 | 0.9147 |\n",
    "| Single dense layer  |  0.0189  | 0.9938 | 0.0916 | 0.9782 |\n",
    "| Basic 'VGG-style' CNN | 0.0073 | 0.9979 | 0.0281| 0.9935 |\n",
    "| Data augmentation | 0.0177 | 0.9949 | 0.0255 | 0.9925 |\n",
    "| Batchnorm + data augmentation | 0.0189 | 0.9937 | 0.0265 | 0.9907 |\n",
    "| Batchnorm + dropout + data augmentation | 0.0339| 0.9893 | 0.0240 | 0.9923 |\n",
    "| Ensembling (Batchnorm + dropout + data augmentation) | | | | 0.9969000220298767 |"
   ]
  }
 ],
 "metadata": {
  "kernelspec": {
   "display_name": "Python 2",
   "language": "python",
   "name": "python2"
  },
  "language_info": {
   "codemirror_mode": {
    "name": "ipython",
    "version": 2
   },
   "file_extension": ".py",
   "mimetype": "text/x-python",
   "name": "python",
   "nbconvert_exporter": "python",
   "pygments_lexer": "ipython2",
   "version": "2.7.13"
  },
  "nav_menu": {},
  "toc": {
   "navigate_menu": true,
   "number_sections": true,
   "sideBar": true,
   "threshold": 6,
   "toc_cell": false,
   "toc_section_display": "block",
   "toc_window_display": false
  }
 },
 "nbformat": 4,
 "nbformat_minor": 1
}
